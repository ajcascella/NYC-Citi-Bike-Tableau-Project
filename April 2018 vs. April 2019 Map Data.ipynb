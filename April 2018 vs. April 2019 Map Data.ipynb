{
 "cells": [
  {
   "cell_type": "markdown",
   "metadata": {},
   "source": [
    "# April 2018 vs. April 2019 Map Data"
   ]
  },
  {
   "cell_type": "markdown",
   "metadata": {},
   "source": [
    "Both April 2018 and April 2019 Datasets include the following information: \n",
    "\n",
    "Trip Duration (seconds), \n",
    "Start Time and Date, \n",
    "Stop Time and Date, \n",
    "Start Station Name, \n",
    "End Station Name, \n",
    "Station ID, \n",
    "Station Lat/Long, \n",
    "Bike ID, \n",
    "User Type (Customer = 24-hour pass or 3-day pass user; Subscriber = Annual Member), \n",
    "Gender (Zero=unknown; 1=male; 2=female), \n",
    "Year of Birth"
   ]
  },
  {
   "cell_type": "code",
   "execution_count": 4,
   "metadata": {},
   "outputs": [],
   "source": [
    "# Import dependencies\n",
    "import pandas as pd\n",
    "import numpy as np\n",
    "import datetime as dt"
   ]
  },
  {
   "cell_type": "code",
   "execution_count": 5,
   "metadata": {},
   "outputs": [],
   "source": [
    "# Import April 2018 & April 2019 data\n",
    "april_2018_csv = (\"Resources/201804-citibike-tripdata.csv\")\n",
    "april_2019_csv = (\"Resources/201904-citibike-tripdata.csv\")"
   ]
  },
  {
   "cell_type": "code",
   "execution_count": 6,
   "metadata": {},
   "outputs": [
    {
     "ename": "FileNotFoundError",
     "evalue": "[Errno 2] File b'Resources/201804-citibike-tripdata.csv' does not exist: b'Resources/201804-citibike-tripdata.csv'",
     "output_type": "error",
     "traceback": [
      "\u001b[0;31m---------------------------------------------------------------------------\u001b[0m",
      "\u001b[0;31mFileNotFoundError\u001b[0m                         Traceback (most recent call last)",
      "\u001b[0;32m<ipython-input-6-ebd5191c19e5>\u001b[0m in \u001b[0;36m<module>\u001b[0;34m\u001b[0m\n\u001b[1;32m      1\u001b[0m \u001b[0;31m# Convert to dataframes\u001b[0m\u001b[0;34m\u001b[0m\u001b[0;34m\u001b[0m\u001b[0;34m\u001b[0m\u001b[0m\n\u001b[0;32m----> 2\u001b[0;31m \u001b[0mapril_2018_df\u001b[0m \u001b[0;34m=\u001b[0m \u001b[0mpd\u001b[0m\u001b[0;34m.\u001b[0m\u001b[0mread_csv\u001b[0m\u001b[0;34m(\u001b[0m\u001b[0mapril_2018_csv\u001b[0m\u001b[0;34m)\u001b[0m\u001b[0;34m\u001b[0m\u001b[0;34m\u001b[0m\u001b[0m\n\u001b[0m\u001b[1;32m      3\u001b[0m \u001b[0mapril_2019_df\u001b[0m \u001b[0;34m=\u001b[0m \u001b[0mpd\u001b[0m\u001b[0;34m.\u001b[0m\u001b[0mread_csv\u001b[0m\u001b[0;34m(\u001b[0m\u001b[0mapril_2019_csv\u001b[0m\u001b[0;34m)\u001b[0m\u001b[0;34m\u001b[0m\u001b[0;34m\u001b[0m\u001b[0m\n",
      "\u001b[0;32m~/anaconda3/lib/python3.7/site-packages/pandas/io/parsers.py\u001b[0m in \u001b[0;36mparser_f\u001b[0;34m(filepath_or_buffer, sep, delimiter, header, names, index_col, usecols, squeeze, prefix, mangle_dupe_cols, dtype, engine, converters, true_values, false_values, skipinitialspace, skiprows, skipfooter, nrows, na_values, keep_default_na, na_filter, verbose, skip_blank_lines, parse_dates, infer_datetime_format, keep_date_col, date_parser, dayfirst, iterator, chunksize, compression, thousands, decimal, lineterminator, quotechar, quoting, doublequote, escapechar, comment, encoding, dialect, tupleize_cols, error_bad_lines, warn_bad_lines, delim_whitespace, low_memory, memory_map, float_precision)\u001b[0m\n\u001b[1;32m    700\u001b[0m                     skip_blank_lines=skip_blank_lines)\n\u001b[1;32m    701\u001b[0m \u001b[0;34m\u001b[0m\u001b[0m\n\u001b[0;32m--> 702\u001b[0;31m         \u001b[0;32mreturn\u001b[0m \u001b[0m_read\u001b[0m\u001b[0;34m(\u001b[0m\u001b[0mfilepath_or_buffer\u001b[0m\u001b[0;34m,\u001b[0m \u001b[0mkwds\u001b[0m\u001b[0;34m)\u001b[0m\u001b[0;34m\u001b[0m\u001b[0;34m\u001b[0m\u001b[0m\n\u001b[0m\u001b[1;32m    703\u001b[0m \u001b[0;34m\u001b[0m\u001b[0m\n\u001b[1;32m    704\u001b[0m     \u001b[0mparser_f\u001b[0m\u001b[0;34m.\u001b[0m\u001b[0m__name__\u001b[0m \u001b[0;34m=\u001b[0m \u001b[0mname\u001b[0m\u001b[0;34m\u001b[0m\u001b[0;34m\u001b[0m\u001b[0m\n",
      "\u001b[0;32m~/anaconda3/lib/python3.7/site-packages/pandas/io/parsers.py\u001b[0m in \u001b[0;36m_read\u001b[0;34m(filepath_or_buffer, kwds)\u001b[0m\n\u001b[1;32m    427\u001b[0m \u001b[0;34m\u001b[0m\u001b[0m\n\u001b[1;32m    428\u001b[0m     \u001b[0;31m# Create the parser.\u001b[0m\u001b[0;34m\u001b[0m\u001b[0;34m\u001b[0m\u001b[0;34m\u001b[0m\u001b[0m\n\u001b[0;32m--> 429\u001b[0;31m     \u001b[0mparser\u001b[0m \u001b[0;34m=\u001b[0m \u001b[0mTextFileReader\u001b[0m\u001b[0;34m(\u001b[0m\u001b[0mfilepath_or_buffer\u001b[0m\u001b[0;34m,\u001b[0m \u001b[0;34m**\u001b[0m\u001b[0mkwds\u001b[0m\u001b[0;34m)\u001b[0m\u001b[0;34m\u001b[0m\u001b[0;34m\u001b[0m\u001b[0m\n\u001b[0m\u001b[1;32m    430\u001b[0m \u001b[0;34m\u001b[0m\u001b[0m\n\u001b[1;32m    431\u001b[0m     \u001b[0;32mif\u001b[0m \u001b[0mchunksize\u001b[0m \u001b[0;32mor\u001b[0m \u001b[0miterator\u001b[0m\u001b[0;34m:\u001b[0m\u001b[0;34m\u001b[0m\u001b[0;34m\u001b[0m\u001b[0m\n",
      "\u001b[0;32m~/anaconda3/lib/python3.7/site-packages/pandas/io/parsers.py\u001b[0m in \u001b[0;36m__init__\u001b[0;34m(self, f, engine, **kwds)\u001b[0m\n\u001b[1;32m    893\u001b[0m             \u001b[0mself\u001b[0m\u001b[0;34m.\u001b[0m\u001b[0moptions\u001b[0m\u001b[0;34m[\u001b[0m\u001b[0;34m'has_index_names'\u001b[0m\u001b[0;34m]\u001b[0m \u001b[0;34m=\u001b[0m \u001b[0mkwds\u001b[0m\u001b[0;34m[\u001b[0m\u001b[0;34m'has_index_names'\u001b[0m\u001b[0;34m]\u001b[0m\u001b[0;34m\u001b[0m\u001b[0;34m\u001b[0m\u001b[0m\n\u001b[1;32m    894\u001b[0m \u001b[0;34m\u001b[0m\u001b[0m\n\u001b[0;32m--> 895\u001b[0;31m         \u001b[0mself\u001b[0m\u001b[0;34m.\u001b[0m\u001b[0m_make_engine\u001b[0m\u001b[0;34m(\u001b[0m\u001b[0mself\u001b[0m\u001b[0;34m.\u001b[0m\u001b[0mengine\u001b[0m\u001b[0;34m)\u001b[0m\u001b[0;34m\u001b[0m\u001b[0;34m\u001b[0m\u001b[0m\n\u001b[0m\u001b[1;32m    896\u001b[0m \u001b[0;34m\u001b[0m\u001b[0m\n\u001b[1;32m    897\u001b[0m     \u001b[0;32mdef\u001b[0m \u001b[0mclose\u001b[0m\u001b[0;34m(\u001b[0m\u001b[0mself\u001b[0m\u001b[0;34m)\u001b[0m\u001b[0;34m:\u001b[0m\u001b[0;34m\u001b[0m\u001b[0;34m\u001b[0m\u001b[0m\n",
      "\u001b[0;32m~/anaconda3/lib/python3.7/site-packages/pandas/io/parsers.py\u001b[0m in \u001b[0;36m_make_engine\u001b[0;34m(self, engine)\u001b[0m\n\u001b[1;32m   1120\u001b[0m     \u001b[0;32mdef\u001b[0m \u001b[0m_make_engine\u001b[0m\u001b[0;34m(\u001b[0m\u001b[0mself\u001b[0m\u001b[0;34m,\u001b[0m \u001b[0mengine\u001b[0m\u001b[0;34m=\u001b[0m\u001b[0;34m'c'\u001b[0m\u001b[0;34m)\u001b[0m\u001b[0;34m:\u001b[0m\u001b[0;34m\u001b[0m\u001b[0;34m\u001b[0m\u001b[0m\n\u001b[1;32m   1121\u001b[0m         \u001b[0;32mif\u001b[0m \u001b[0mengine\u001b[0m \u001b[0;34m==\u001b[0m \u001b[0;34m'c'\u001b[0m\u001b[0;34m:\u001b[0m\u001b[0;34m\u001b[0m\u001b[0;34m\u001b[0m\u001b[0m\n\u001b[0;32m-> 1122\u001b[0;31m             \u001b[0mself\u001b[0m\u001b[0;34m.\u001b[0m\u001b[0m_engine\u001b[0m \u001b[0;34m=\u001b[0m \u001b[0mCParserWrapper\u001b[0m\u001b[0;34m(\u001b[0m\u001b[0mself\u001b[0m\u001b[0;34m.\u001b[0m\u001b[0mf\u001b[0m\u001b[0;34m,\u001b[0m \u001b[0;34m**\u001b[0m\u001b[0mself\u001b[0m\u001b[0;34m.\u001b[0m\u001b[0moptions\u001b[0m\u001b[0;34m)\u001b[0m\u001b[0;34m\u001b[0m\u001b[0;34m\u001b[0m\u001b[0m\n\u001b[0m\u001b[1;32m   1123\u001b[0m         \u001b[0;32melse\u001b[0m\u001b[0;34m:\u001b[0m\u001b[0;34m\u001b[0m\u001b[0;34m\u001b[0m\u001b[0m\n\u001b[1;32m   1124\u001b[0m             \u001b[0;32mif\u001b[0m \u001b[0mengine\u001b[0m \u001b[0;34m==\u001b[0m \u001b[0;34m'python'\u001b[0m\u001b[0;34m:\u001b[0m\u001b[0;34m\u001b[0m\u001b[0;34m\u001b[0m\u001b[0m\n",
      "\u001b[0;32m~/anaconda3/lib/python3.7/site-packages/pandas/io/parsers.py\u001b[0m in \u001b[0;36m__init__\u001b[0;34m(self, src, **kwds)\u001b[0m\n\u001b[1;32m   1851\u001b[0m         \u001b[0mkwds\u001b[0m\u001b[0;34m[\u001b[0m\u001b[0;34m'usecols'\u001b[0m\u001b[0;34m]\u001b[0m \u001b[0;34m=\u001b[0m \u001b[0mself\u001b[0m\u001b[0;34m.\u001b[0m\u001b[0musecols\u001b[0m\u001b[0;34m\u001b[0m\u001b[0;34m\u001b[0m\u001b[0m\n\u001b[1;32m   1852\u001b[0m \u001b[0;34m\u001b[0m\u001b[0m\n\u001b[0;32m-> 1853\u001b[0;31m         \u001b[0mself\u001b[0m\u001b[0;34m.\u001b[0m\u001b[0m_reader\u001b[0m \u001b[0;34m=\u001b[0m \u001b[0mparsers\u001b[0m\u001b[0;34m.\u001b[0m\u001b[0mTextReader\u001b[0m\u001b[0;34m(\u001b[0m\u001b[0msrc\u001b[0m\u001b[0;34m,\u001b[0m \u001b[0;34m**\u001b[0m\u001b[0mkwds\u001b[0m\u001b[0;34m)\u001b[0m\u001b[0;34m\u001b[0m\u001b[0;34m\u001b[0m\u001b[0m\n\u001b[0m\u001b[1;32m   1854\u001b[0m         \u001b[0mself\u001b[0m\u001b[0;34m.\u001b[0m\u001b[0munnamed_cols\u001b[0m \u001b[0;34m=\u001b[0m \u001b[0mself\u001b[0m\u001b[0;34m.\u001b[0m\u001b[0m_reader\u001b[0m\u001b[0;34m.\u001b[0m\u001b[0munnamed_cols\u001b[0m\u001b[0;34m\u001b[0m\u001b[0;34m\u001b[0m\u001b[0m\n\u001b[1;32m   1855\u001b[0m \u001b[0;34m\u001b[0m\u001b[0m\n",
      "\u001b[0;32mpandas/_libs/parsers.pyx\u001b[0m in \u001b[0;36mpandas._libs.parsers.TextReader.__cinit__\u001b[0;34m()\u001b[0m\n",
      "\u001b[0;32mpandas/_libs/parsers.pyx\u001b[0m in \u001b[0;36mpandas._libs.parsers.TextReader._setup_parser_source\u001b[0;34m()\u001b[0m\n",
      "\u001b[0;31mFileNotFoundError\u001b[0m: [Errno 2] File b'Resources/201804-citibike-tripdata.csv' does not exist: b'Resources/201804-citibike-tripdata.csv'"
     ]
    }
   ],
   "source": [
    "# Convert to dataframes\n",
    "april_2018_df = pd.read_csv(april_2018_csv)\n",
    "april_2019_df = pd.read_csv(april_2019_csv)"
   ]
  },
  {
   "cell_type": "code",
   "execution_count": 67,
   "metadata": {},
   "outputs": [
    {
     "data": {
      "text/plain": [
       "tripduration               1048575\n",
       "starttime                  1048575\n",
       "stoptime                   1048575\n",
       "start station id           1048575\n",
       "start station name         1048575\n",
       "start station latitude     1048575\n",
       "start station longitude    1048575\n",
       "end station id             1048575\n",
       "end station name           1048575\n",
       "end station latitude       1048575\n",
       "end station longitude      1048575\n",
       "bikeid                     1048575\n",
       "usertype                   1048575\n",
       "birth year                 1048575\n",
       "gender                     1048575\n",
       "dtype: int64"
      ]
     },
     "execution_count": 67,
     "metadata": {},
     "output_type": "execute_result"
    }
   ],
   "source": [
    "# Confirm no null values\n",
    "april_2018_df.count()"
   ]
  },
  {
   "cell_type": "code",
   "execution_count": 68,
   "metadata": {},
   "outputs": [
    {
     "data": {
      "text/plain": [
       "tripduration               1048575\n",
       "starttime                  1048575\n",
       "stoptime                   1048575\n",
       "start station id           1048575\n",
       "start station name         1048575\n",
       "start station latitude     1048575\n",
       "start station longitude    1048575\n",
       "end station id             1048575\n",
       "end station name           1048575\n",
       "end station latitude       1048575\n",
       "end station longitude      1048575\n",
       "bikeid                     1048575\n",
       "usertype                   1048575\n",
       "birth year                 1048575\n",
       "gender                     1048575\n",
       "dtype: int64"
      ]
     },
     "execution_count": 68,
     "metadata": {},
     "output_type": "execute_result"
    }
   ],
   "source": [
    "# Confirm no null values\n",
    "april_2019_df.count()"
   ]
  },
  {
   "cell_type": "code",
   "execution_count": 69,
   "metadata": {},
   "outputs": [
    {
     "data": {
      "text/html": [
       "<div>\n",
       "<style scoped>\n",
       "    .dataframe tbody tr th:only-of-type {\n",
       "        vertical-align: middle;\n",
       "    }\n",
       "\n",
       "    .dataframe tbody tr th {\n",
       "        vertical-align: top;\n",
       "    }\n",
       "\n",
       "    .dataframe thead th {\n",
       "        text-align: right;\n",
       "    }\n",
       "</style>\n",
       "<table border=\"1\" class=\"dataframe\">\n",
       "  <thead>\n",
       "    <tr style=\"text-align: right;\">\n",
       "      <th></th>\n",
       "      <th>tripduration</th>\n",
       "      <th>start station id</th>\n",
       "      <th>start station latitude</th>\n",
       "      <th>start station longitude</th>\n",
       "      <th>end station id</th>\n",
       "      <th>end station latitude</th>\n",
       "      <th>end station longitude</th>\n",
       "      <th>bikeid</th>\n",
       "      <th>birth year</th>\n",
       "      <th>gender</th>\n",
       "    </tr>\n",
       "  </thead>\n",
       "  <tbody>\n",
       "    <tr>\n",
       "      <th>count</th>\n",
       "      <td>1.048575e+06</td>\n",
       "      <td>1.048575e+06</td>\n",
       "      <td>1.048575e+06</td>\n",
       "      <td>1.048575e+06</td>\n",
       "      <td>1.048575e+06</td>\n",
       "      <td>1.048575e+06</td>\n",
       "      <td>1.048575e+06</td>\n",
       "      <td>1.048575e+06</td>\n",
       "      <td>1.048575e+06</td>\n",
       "      <td>1.048575e+06</td>\n",
       "    </tr>\n",
       "    <tr>\n",
       "      <th>mean</th>\n",
       "      <td>9.421521e+02</td>\n",
       "      <td>1.102454e+03</td>\n",
       "      <td>4.073760e+01</td>\n",
       "      <td>-7.398511e+01</td>\n",
       "      <td>1.378776e+03</td>\n",
       "      <td>4.073747e+01</td>\n",
       "      <td>-7.398487e+01</td>\n",
       "      <td>2.643854e+04</td>\n",
       "      <td>1.978356e+03</td>\n",
       "      <td>1.125459e+00</td>\n",
       "    </tr>\n",
       "    <tr>\n",
       "      <th>std</th>\n",
       "      <td>1.862084e+04</td>\n",
       "      <td>1.194670e+03</td>\n",
       "      <td>2.466324e-02</td>\n",
       "      <td>1.644085e-02</td>\n",
       "      <td>1.364497e+03</td>\n",
       "      <td>2.618523e-02</td>\n",
       "      <td>1.708732e-02</td>\n",
       "      <td>5.790785e+03</td>\n",
       "      <td>1.204919e+01</td>\n",
       "      <td>5.445149e-01</td>\n",
       "    </tr>\n",
       "    <tr>\n",
       "      <th>min</th>\n",
       "      <td>6.100000e+01</td>\n",
       "      <td>7.200000e+01</td>\n",
       "      <td>4.064654e+01</td>\n",
       "      <td>-7.401713e+01</td>\n",
       "      <td>7.200000e+01</td>\n",
       "      <td>4.064654e+01</td>\n",
       "      <td>-7.404384e+01</td>\n",
       "      <td>1.452900e+04</td>\n",
       "      <td>1.885000e+03</td>\n",
       "      <td>0.000000e+00</td>\n",
       "    </tr>\n",
       "    <tr>\n",
       "      <th>25%</th>\n",
       "      <td>3.540000e+02</td>\n",
       "      <td>3.490000e+02</td>\n",
       "      <td>4.072020e+01</td>\n",
       "      <td>-7.399530e+01</td>\n",
       "      <td>3.630000e+02</td>\n",
       "      <td>4.072020e+01</td>\n",
       "      <td>-7.399662e+01</td>\n",
       "      <td>2.089700e+04</td>\n",
       "      <td>1.969000e+03</td>\n",
       "      <td>1.000000e+00</td>\n",
       "    </tr>\n",
       "    <tr>\n",
       "      <th>50%</th>\n",
       "      <td>5.970000e+02</td>\n",
       "      <td>4.690000e+02</td>\n",
       "      <td>4.073726e+01</td>\n",
       "      <td>-7.398722e+01</td>\n",
       "      <td>4.900000e+02</td>\n",
       "      <td>4.073726e+01</td>\n",
       "      <td>-7.398752e+01</td>\n",
       "      <td>2.817600e+04</td>\n",
       "      <td>1.980000e+03</td>\n",
       "      <td>1.000000e+00</td>\n",
       "    </tr>\n",
       "    <tr>\n",
       "      <th>75%</th>\n",
       "      <td>1.047000e+03</td>\n",
       "      <td>2.009000e+03</td>\n",
       "      <td>4.075510e+01</td>\n",
       "      <td>-7.397634e+01</td>\n",
       "      <td>3.143000e+03</td>\n",
       "      <td>4.075510e+01</td>\n",
       "      <td>-7.397634e+01</td>\n",
       "      <td>3.122100e+04</td>\n",
       "      <td>1.988000e+03</td>\n",
       "      <td>1.000000e+00</td>\n",
       "    </tr>\n",
       "    <tr>\n",
       "      <th>max</th>\n",
       "      <td>1.017264e+07</td>\n",
       "      <td>3.306000e+03</td>\n",
       "      <td>4.079693e+01</td>\n",
       "      <td>-7.392989e+01</td>\n",
       "      <td>3.681000e+03</td>\n",
       "      <td>4.081439e+01</td>\n",
       "      <td>-7.390774e+01</td>\n",
       "      <td>3.367100e+04</td>\n",
       "      <td>2.002000e+03</td>\n",
       "      <td>2.000000e+00</td>\n",
       "    </tr>\n",
       "  </tbody>\n",
       "</table>\n",
       "</div>"
      ],
      "text/plain": [
       "       tripduration  start station id  start station latitude  \\\n",
       "count  1.048575e+06      1.048575e+06            1.048575e+06   \n",
       "mean   9.421521e+02      1.102454e+03            4.073760e+01   \n",
       "std    1.862084e+04      1.194670e+03            2.466324e-02   \n",
       "min    6.100000e+01      7.200000e+01            4.064654e+01   \n",
       "25%    3.540000e+02      3.490000e+02            4.072020e+01   \n",
       "50%    5.970000e+02      4.690000e+02            4.073726e+01   \n",
       "75%    1.047000e+03      2.009000e+03            4.075510e+01   \n",
       "max    1.017264e+07      3.306000e+03            4.079693e+01   \n",
       "\n",
       "       start station longitude  end station id  end station latitude  \\\n",
       "count             1.048575e+06    1.048575e+06          1.048575e+06   \n",
       "mean             -7.398511e+01    1.378776e+03          4.073747e+01   \n",
       "std               1.644085e-02    1.364497e+03          2.618523e-02   \n",
       "min              -7.401713e+01    7.200000e+01          4.064654e+01   \n",
       "25%              -7.399530e+01    3.630000e+02          4.072020e+01   \n",
       "50%              -7.398722e+01    4.900000e+02          4.073726e+01   \n",
       "75%              -7.397634e+01    3.143000e+03          4.075510e+01   \n",
       "max              -7.392989e+01    3.681000e+03          4.081439e+01   \n",
       "\n",
       "       end station longitude        bikeid    birth year        gender  \n",
       "count           1.048575e+06  1.048575e+06  1.048575e+06  1.048575e+06  \n",
       "mean           -7.398487e+01  2.643854e+04  1.978356e+03  1.125459e+00  \n",
       "std             1.708732e-02  5.790785e+03  1.204919e+01  5.445149e-01  \n",
       "min            -7.404384e+01  1.452900e+04  1.885000e+03  0.000000e+00  \n",
       "25%            -7.399662e+01  2.089700e+04  1.969000e+03  1.000000e+00  \n",
       "50%            -7.398752e+01  2.817600e+04  1.980000e+03  1.000000e+00  \n",
       "75%            -7.397634e+01  3.122100e+04  1.988000e+03  1.000000e+00  \n",
       "max            -7.390774e+01  3.367100e+04  2.002000e+03  2.000000e+00  "
      ]
     },
     "execution_count": 69,
     "metadata": {},
     "output_type": "execute_result"
    }
   ],
   "source": [
    "# Describe 2018 data\n",
    "april_2018_df.describe()"
   ]
  },
  {
   "cell_type": "code",
   "execution_count": 70,
   "metadata": {},
   "outputs": [
    {
     "data": {
      "text/html": [
       "<div>\n",
       "<style scoped>\n",
       "    .dataframe tbody tr th:only-of-type {\n",
       "        vertical-align: middle;\n",
       "    }\n",
       "\n",
       "    .dataframe tbody tr th {\n",
       "        vertical-align: top;\n",
       "    }\n",
       "\n",
       "    .dataframe thead th {\n",
       "        text-align: right;\n",
       "    }\n",
       "</style>\n",
       "<table border=\"1\" class=\"dataframe\">\n",
       "  <thead>\n",
       "    <tr style=\"text-align: right;\">\n",
       "      <th></th>\n",
       "      <th>tripduration</th>\n",
       "      <th>start station id</th>\n",
       "      <th>start station latitude</th>\n",
       "      <th>start station longitude</th>\n",
       "      <th>end station id</th>\n",
       "      <th>end station latitude</th>\n",
       "      <th>end station longitude</th>\n",
       "      <th>bikeid</th>\n",
       "      <th>birth year</th>\n",
       "      <th>gender</th>\n",
       "    </tr>\n",
       "  </thead>\n",
       "  <tbody>\n",
       "    <tr>\n",
       "      <th>count</th>\n",
       "      <td>1.048575e+06</td>\n",
       "      <td>1.048575e+06</td>\n",
       "      <td>1.048575e+06</td>\n",
       "      <td>1.048575e+06</td>\n",
       "      <td>1.048575e+06</td>\n",
       "      <td>1.048575e+06</td>\n",
       "      <td>1.048575e+06</td>\n",
       "      <td>1.048575e+06</td>\n",
       "      <td>1.048575e+06</td>\n",
       "      <td>1.048575e+06</td>\n",
       "    </tr>\n",
       "    <tr>\n",
       "      <th>mean</th>\n",
       "      <td>1.106669e+03</td>\n",
       "      <td>1.670156e+03</td>\n",
       "      <td>4.073770e+01</td>\n",
       "      <td>-7.398199e+01</td>\n",
       "      <td>1.657264e+03</td>\n",
       "      <td>4.073749e+01</td>\n",
       "      <td>-7.398223e+01</td>\n",
       "      <td>2.918812e+04</td>\n",
       "      <td>1.979689e+03</td>\n",
       "      <td>1.160007e+00</td>\n",
       "    </tr>\n",
       "    <tr>\n",
       "      <th>std</th>\n",
       "      <td>1.350569e+04</td>\n",
       "      <td>1.471306e+03</td>\n",
       "      <td>3.067566e-02</td>\n",
       "      <td>1.918105e-02</td>\n",
       "      <td>1.470171e+03</td>\n",
       "      <td>3.050093e-02</td>\n",
       "      <td>1.923293e-02</td>\n",
       "      <td>6.730371e+03</td>\n",
       "      <td>1.207016e+01</td>\n",
       "      <td>5.266668e-01</td>\n",
       "    </tr>\n",
       "    <tr>\n",
       "      <th>min</th>\n",
       "      <td>6.100000e+01</td>\n",
       "      <td>7.200000e+01</td>\n",
       "      <td>4.065540e+01</td>\n",
       "      <td>-7.401713e+01</td>\n",
       "      <td>7.200000e+01</td>\n",
       "      <td>4.065540e+01</td>\n",
       "      <td>-7.406391e+01</td>\n",
       "      <td>1.452900e+04</td>\n",
       "      <td>1.885000e+03</td>\n",
       "      <td>0.000000e+00</td>\n",
       "    </tr>\n",
       "    <tr>\n",
       "      <th>25%</th>\n",
       "      <td>3.450000e+02</td>\n",
       "      <td>3.850000e+02</td>\n",
       "      <td>4.071817e+01</td>\n",
       "      <td>-7.399468e+01</td>\n",
       "      <td>3.820000e+02</td>\n",
       "      <td>4.071782e+01</td>\n",
       "      <td>-7.399480e+01</td>\n",
       "      <td>2.557000e+04</td>\n",
       "      <td>1.969000e+03</td>\n",
       "      <td>1.000000e+00</td>\n",
       "    </tr>\n",
       "    <tr>\n",
       "      <th>50%</th>\n",
       "      <td>5.930000e+02</td>\n",
       "      <td>5.160000e+02</td>\n",
       "      <td>4.073913e+01</td>\n",
       "      <td>-7.398474e+01</td>\n",
       "      <td>5.140000e+02</td>\n",
       "      <td>4.073827e+01</td>\n",
       "      <td>-7.398516e+01</td>\n",
       "      <td>3.095400e+04</td>\n",
       "      <td>1.982000e+03</td>\n",
       "      <td>1.000000e+00</td>\n",
       "    </tr>\n",
       "    <tr>\n",
       "      <th>75%</th>\n",
       "      <td>1.061000e+03</td>\n",
       "      <td>3.295000e+03</td>\n",
       "      <td>4.075797e+01</td>\n",
       "      <td>-7.397130e+01</td>\n",
       "      <td>3.294000e+03</td>\n",
       "      <td>4.075757e+01</td>\n",
       "      <td>-7.397179e+01</td>\n",
       "      <td>3.439100e+04</td>\n",
       "      <td>1.990000e+03</td>\n",
       "      <td>1.000000e+00</td>\n",
       "    </tr>\n",
       "    <tr>\n",
       "      <th>max</th>\n",
       "      <td>2.572595e+06</td>\n",
       "      <td>3.761000e+03</td>\n",
       "      <td>4.081439e+01</td>\n",
       "      <td>-7.390774e+01</td>\n",
       "      <td>3.763000e+03</td>\n",
       "      <td>4.081439e+01</td>\n",
       "      <td>-7.390774e+01</td>\n",
       "      <td>3.796200e+04</td>\n",
       "      <td>2.003000e+03</td>\n",
       "      <td>2.000000e+00</td>\n",
       "    </tr>\n",
       "  </tbody>\n",
       "</table>\n",
       "</div>"
      ],
      "text/plain": [
       "       tripduration  start station id  start station latitude  \\\n",
       "count  1.048575e+06      1.048575e+06            1.048575e+06   \n",
       "mean   1.106669e+03      1.670156e+03            4.073770e+01   \n",
       "std    1.350569e+04      1.471306e+03            3.067566e-02   \n",
       "min    6.100000e+01      7.200000e+01            4.065540e+01   \n",
       "25%    3.450000e+02      3.850000e+02            4.071817e+01   \n",
       "50%    5.930000e+02      5.160000e+02            4.073913e+01   \n",
       "75%    1.061000e+03      3.295000e+03            4.075797e+01   \n",
       "max    2.572595e+06      3.761000e+03            4.081439e+01   \n",
       "\n",
       "       start station longitude  end station id  end station latitude  \\\n",
       "count             1.048575e+06    1.048575e+06          1.048575e+06   \n",
       "mean             -7.398199e+01    1.657264e+03          4.073749e+01   \n",
       "std               1.918105e-02    1.470171e+03          3.050093e-02   \n",
       "min              -7.401713e+01    7.200000e+01          4.065540e+01   \n",
       "25%              -7.399468e+01    3.820000e+02          4.071782e+01   \n",
       "50%              -7.398474e+01    5.140000e+02          4.073827e+01   \n",
       "75%              -7.397130e+01    3.294000e+03          4.075757e+01   \n",
       "max              -7.390774e+01    3.763000e+03          4.081439e+01   \n",
       "\n",
       "       end station longitude        bikeid    birth year        gender  \n",
       "count           1.048575e+06  1.048575e+06  1.048575e+06  1.048575e+06  \n",
       "mean           -7.398223e+01  2.918812e+04  1.979689e+03  1.160007e+00  \n",
       "std             1.923293e-02  6.730371e+03  1.207016e+01  5.266668e-01  \n",
       "min            -7.406391e+01  1.452900e+04  1.885000e+03  0.000000e+00  \n",
       "25%            -7.399480e+01  2.557000e+04  1.969000e+03  1.000000e+00  \n",
       "50%            -7.398516e+01  3.095400e+04  1.982000e+03  1.000000e+00  \n",
       "75%            -7.397179e+01  3.439100e+04  1.990000e+03  1.000000e+00  \n",
       "max            -7.390774e+01  3.796200e+04  2.003000e+03  2.000000e+00  "
      ]
     },
     "execution_count": 70,
     "metadata": {},
     "output_type": "execute_result"
    }
   ],
   "source": [
    "# Describe 2019 data\n",
    "april_2019_df.describe()"
   ]
  },
  {
   "cell_type": "code",
   "execution_count": 71,
   "metadata": {},
   "outputs": [
    {
     "data": {
      "text/plain": [
       "tripduration                 int64\n",
       "starttime                   object\n",
       "stoptime                    object\n",
       "start station id             int64\n",
       "start station name          object\n",
       "start station latitude     float64\n",
       "start station longitude    float64\n",
       "end station id               int64\n",
       "end station name            object\n",
       "end station latitude       float64\n",
       "end station longitude      float64\n",
       "bikeid                       int64\n",
       "usertype                    object\n",
       "birth year                   int64\n",
       "gender                       int64\n",
       "dtype: object"
      ]
     },
     "execution_count": 71,
     "metadata": {},
     "output_type": "execute_result"
    }
   ],
   "source": [
    "# Get datatypes for 2018 dataframe\n",
    "april_2018_df.dtypes"
   ]
  },
  {
   "cell_type": "code",
   "execution_count": 72,
   "metadata": {},
   "outputs": [
    {
     "data": {
      "text/plain": [
       "tripduration                 int64\n",
       "starttime                   object\n",
       "stoptime                    object\n",
       "start station id             int64\n",
       "start station name          object\n",
       "start station latitude     float64\n",
       "start station longitude    float64\n",
       "end station id               int64\n",
       "end station name            object\n",
       "end station latitude       float64\n",
       "end station longitude      float64\n",
       "bikeid                       int64\n",
       "usertype                    object\n",
       "birth year                   int64\n",
       "gender                       int64\n",
       "dtype: object"
      ]
     },
     "execution_count": 72,
     "metadata": {},
     "output_type": "execute_result"
    }
   ],
   "source": [
    "# Get datatypes for 2019 dataframe\n",
    "april_2019_df.dtypes"
   ]
  },
  {
   "cell_type": "code",
   "execution_count": 73,
   "metadata": {},
   "outputs": [
    {
     "data": {
      "text/html": [
       "<div>\n",
       "<style scoped>\n",
       "    .dataframe tbody tr th:only-of-type {\n",
       "        vertical-align: middle;\n",
       "    }\n",
       "\n",
       "    .dataframe tbody tr th {\n",
       "        vertical-align: top;\n",
       "    }\n",
       "\n",
       "    .dataframe thead th {\n",
       "        text-align: right;\n",
       "    }\n",
       "</style>\n",
       "<table border=\"1\" class=\"dataframe\">\n",
       "  <thead>\n",
       "    <tr style=\"text-align: right;\">\n",
       "      <th></th>\n",
       "      <th>tripduration</th>\n",
       "      <th>starttime</th>\n",
       "      <th>stoptime</th>\n",
       "      <th>start station id</th>\n",
       "      <th>start station name</th>\n",
       "      <th>start station latitude</th>\n",
       "      <th>start station longitude</th>\n",
       "      <th>end station id</th>\n",
       "      <th>end station name</th>\n",
       "      <th>end station latitude</th>\n",
       "      <th>end station longitude</th>\n",
       "      <th>bikeid</th>\n",
       "      <th>usertype</th>\n",
       "      <th>birth year</th>\n",
       "      <th>gender</th>\n",
       "    </tr>\n",
       "  </thead>\n",
       "  <tbody>\n",
       "    <tr>\n",
       "      <th>0</th>\n",
       "      <td>840</td>\n",
       "      <td>07:39.1</td>\n",
       "      <td>21:39.1</td>\n",
       "      <td>72</td>\n",
       "      <td>W 52 St &amp; 11 Ave</td>\n",
       "      <td>40.767272</td>\n",
       "      <td>-73.993929</td>\n",
       "      <td>379</td>\n",
       "      <td>W 31 St &amp; 7 Ave</td>\n",
       "      <td>40.749156</td>\n",
       "      <td>-73.991600</td>\n",
       "      <td>31977</td>\n",
       "      <td>Subscriber</td>\n",
       "      <td>1973</td>\n",
       "      <td>1</td>\n",
       "    </tr>\n",
       "    <tr>\n",
       "      <th>1</th>\n",
       "      <td>1438</td>\n",
       "      <td>20:02.2</td>\n",
       "      <td>44:00.6</td>\n",
       "      <td>72</td>\n",
       "      <td>W 52 St &amp; 11 Ave</td>\n",
       "      <td>40.767272</td>\n",
       "      <td>-73.993929</td>\n",
       "      <td>426</td>\n",
       "      <td>West St &amp; Chambers St</td>\n",
       "      <td>40.717548</td>\n",
       "      <td>-74.013221</td>\n",
       "      <td>21403</td>\n",
       "      <td>Subscriber</td>\n",
       "      <td>1956</td>\n",
       "      <td>1</td>\n",
       "    </tr>\n",
       "    <tr>\n",
       "      <th>2</th>\n",
       "      <td>219</td>\n",
       "      <td>11:14.4</td>\n",
       "      <td>14:53.8</td>\n",
       "      <td>72</td>\n",
       "      <td>W 52 St &amp; 11 Ave</td>\n",
       "      <td>40.767272</td>\n",
       "      <td>-73.993929</td>\n",
       "      <td>447</td>\n",
       "      <td>8 Ave &amp; W 52 St</td>\n",
       "      <td>40.763707</td>\n",
       "      <td>-73.985162</td>\n",
       "      <td>29081</td>\n",
       "      <td>Subscriber</td>\n",
       "      <td>1974</td>\n",
       "      <td>1</td>\n",
       "    </tr>\n",
       "    <tr>\n",
       "      <th>3</th>\n",
       "      <td>410</td>\n",
       "      <td>52:32.4</td>\n",
       "      <td>59:23.2</td>\n",
       "      <td>72</td>\n",
       "      <td>W 52 St &amp; 11 Ave</td>\n",
       "      <td>40.767272</td>\n",
       "      <td>-73.993929</td>\n",
       "      <td>173</td>\n",
       "      <td>Broadway &amp; W 49 St</td>\n",
       "      <td>40.760683</td>\n",
       "      <td>-73.984527</td>\n",
       "      <td>32130</td>\n",
       "      <td>Subscriber</td>\n",
       "      <td>1983</td>\n",
       "      <td>1</td>\n",
       "    </tr>\n",
       "    <tr>\n",
       "      <th>4</th>\n",
       "      <td>485</td>\n",
       "      <td>37:34.3</td>\n",
       "      <td>45:40.0</td>\n",
       "      <td>72</td>\n",
       "      <td>W 52 St &amp; 11 Ave</td>\n",
       "      <td>40.767272</td>\n",
       "      <td>-73.993929</td>\n",
       "      <td>3159</td>\n",
       "      <td>W 67 St &amp; Broadway</td>\n",
       "      <td>40.774925</td>\n",
       "      <td>-73.982666</td>\n",
       "      <td>30055</td>\n",
       "      <td>Subscriber</td>\n",
       "      <td>1978</td>\n",
       "      <td>1</td>\n",
       "    </tr>\n",
       "  </tbody>\n",
       "</table>\n",
       "</div>"
      ],
      "text/plain": [
       "   tripduration starttime stoptime  start station id start station name  \\\n",
       "0           840   07:39.1  21:39.1                72   W 52 St & 11 Ave   \n",
       "1          1438   20:02.2  44:00.6                72   W 52 St & 11 Ave   \n",
       "2           219   11:14.4  14:53.8                72   W 52 St & 11 Ave   \n",
       "3           410   52:32.4  59:23.2                72   W 52 St & 11 Ave   \n",
       "4           485   37:34.3  45:40.0                72   W 52 St & 11 Ave   \n",
       "\n",
       "   start station latitude  start station longitude  end station id  \\\n",
       "0               40.767272               -73.993929             379   \n",
       "1               40.767272               -73.993929             426   \n",
       "2               40.767272               -73.993929             447   \n",
       "3               40.767272               -73.993929             173   \n",
       "4               40.767272               -73.993929            3159   \n",
       "\n",
       "        end station name  end station latitude  end station longitude  bikeid  \\\n",
       "0        W 31 St & 7 Ave             40.749156             -73.991600   31977   \n",
       "1  West St & Chambers St             40.717548             -74.013221   21403   \n",
       "2        8 Ave & W 52 St             40.763707             -73.985162   29081   \n",
       "3     Broadway & W 49 St             40.760683             -73.984527   32130   \n",
       "4     W 67 St & Broadway             40.774925             -73.982666   30055   \n",
       "\n",
       "     usertype  birth year  gender  \n",
       "0  Subscriber        1973       1  \n",
       "1  Subscriber        1956       1  \n",
       "2  Subscriber        1974       1  \n",
       "3  Subscriber        1983       1  \n",
       "4  Subscriber        1978       1  "
      ]
     },
     "execution_count": 73,
     "metadata": {},
     "output_type": "execute_result"
    }
   ],
   "source": [
    "# Preview 2018 data\n",
    "april_2018_df.head()"
   ]
  },
  {
   "cell_type": "code",
   "execution_count": 74,
   "metadata": {},
   "outputs": [
    {
     "data": {
      "text/html": [
       "<div>\n",
       "<style scoped>\n",
       "    .dataframe tbody tr th:only-of-type {\n",
       "        vertical-align: middle;\n",
       "    }\n",
       "\n",
       "    .dataframe tbody tr th {\n",
       "        vertical-align: top;\n",
       "    }\n",
       "\n",
       "    .dataframe thead th {\n",
       "        text-align: right;\n",
       "    }\n",
       "</style>\n",
       "<table border=\"1\" class=\"dataframe\">\n",
       "  <thead>\n",
       "    <tr style=\"text-align: right;\">\n",
       "      <th></th>\n",
       "      <th>tripduration</th>\n",
       "      <th>starttime</th>\n",
       "      <th>stoptime</th>\n",
       "      <th>start station id</th>\n",
       "      <th>start station name</th>\n",
       "      <th>start station latitude</th>\n",
       "      <th>start station longitude</th>\n",
       "      <th>end station id</th>\n",
       "      <th>end station name</th>\n",
       "      <th>end station latitude</th>\n",
       "      <th>end station longitude</th>\n",
       "      <th>bikeid</th>\n",
       "      <th>usertype</th>\n",
       "      <th>birth year</th>\n",
       "      <th>gender</th>\n",
       "    </tr>\n",
       "  </thead>\n",
       "  <tbody>\n",
       "    <tr>\n",
       "      <th>0</th>\n",
       "      <td>88</td>\n",
       "      <td>00:14.7</td>\n",
       "      <td>01:42.9</td>\n",
       "      <td>2006</td>\n",
       "      <td>Central Park S &amp; 6 Ave</td>\n",
       "      <td>40.765909</td>\n",
       "      <td>-73.976342</td>\n",
       "      <td>2006</td>\n",
       "      <td>Central Park S &amp; 6 Ave</td>\n",
       "      <td>40.765909</td>\n",
       "      <td>-73.976342</td>\n",
       "      <td>36515</td>\n",
       "      <td>Subscriber</td>\n",
       "      <td>1982</td>\n",
       "      <td>1</td>\n",
       "    </tr>\n",
       "    <tr>\n",
       "      <th>1</th>\n",
       "      <td>443</td>\n",
       "      <td>00:20.8</td>\n",
       "      <td>07:44.3</td>\n",
       "      <td>254</td>\n",
       "      <td>W 11 St &amp; 6 Ave</td>\n",
       "      <td>40.735324</td>\n",
       "      <td>-73.998004</td>\n",
       "      <td>540</td>\n",
       "      <td>Lexington Ave &amp; E 29 St</td>\n",
       "      <td>40.743116</td>\n",
       "      <td>-73.982154</td>\n",
       "      <td>17406</td>\n",
       "      <td>Subscriber</td>\n",
       "      <td>1983</td>\n",
       "      <td>1</td>\n",
       "    </tr>\n",
       "    <tr>\n",
       "      <th>2</th>\n",
       "      <td>662</td>\n",
       "      <td>00:31.0</td>\n",
       "      <td>11:33.3</td>\n",
       "      <td>3244</td>\n",
       "      <td>University Pl &amp; E 8 St</td>\n",
       "      <td>40.731437</td>\n",
       "      <td>-73.994903</td>\n",
       "      <td>3244</td>\n",
       "      <td>University Pl &amp; E 8 St</td>\n",
       "      <td>40.731437</td>\n",
       "      <td>-73.994903</td>\n",
       "      <td>20775</td>\n",
       "      <td>Subscriber</td>\n",
       "      <td>1988</td>\n",
       "      <td>1</td>\n",
       "    </tr>\n",
       "    <tr>\n",
       "      <th>3</th>\n",
       "      <td>86</td>\n",
       "      <td>00:30.9</td>\n",
       "      <td>01:57.0</td>\n",
       "      <td>526</td>\n",
       "      <td>E 33 St &amp; 5 Ave</td>\n",
       "      <td>40.747659</td>\n",
       "      <td>-73.984907</td>\n",
       "      <td>474</td>\n",
       "      <td>5 Ave &amp; E 29 St</td>\n",
       "      <td>40.745168</td>\n",
       "      <td>-73.986831</td>\n",
       "      <td>36270</td>\n",
       "      <td>Subscriber</td>\n",
       "      <td>1982</td>\n",
       "      <td>1</td>\n",
       "    </tr>\n",
       "    <tr>\n",
       "      <th>4</th>\n",
       "      <td>136</td>\n",
       "      <td>00:32.6</td>\n",
       "      <td>02:49.4</td>\n",
       "      <td>461</td>\n",
       "      <td>E 20 St &amp; 2 Ave</td>\n",
       "      <td>40.735877</td>\n",
       "      <td>-73.982050</td>\n",
       "      <td>504</td>\n",
       "      <td>1 Ave &amp; E 16 St</td>\n",
       "      <td>40.732219</td>\n",
       "      <td>-73.981656</td>\n",
       "      <td>36051</td>\n",
       "      <td>Subscriber</td>\n",
       "      <td>1986</td>\n",
       "      <td>1</td>\n",
       "    </tr>\n",
       "  </tbody>\n",
       "</table>\n",
       "</div>"
      ],
      "text/plain": [
       "   tripduration starttime stoptime  start station id      start station name  \\\n",
       "0            88   00:14.7  01:42.9              2006  Central Park S & 6 Ave   \n",
       "1           443   00:20.8  07:44.3               254         W 11 St & 6 Ave   \n",
       "2           662   00:31.0  11:33.3              3244  University Pl & E 8 St   \n",
       "3            86   00:30.9  01:57.0               526         E 33 St & 5 Ave   \n",
       "4           136   00:32.6  02:49.4               461         E 20 St & 2 Ave   \n",
       "\n",
       "   start station latitude  start station longitude  end station id  \\\n",
       "0               40.765909               -73.976342            2006   \n",
       "1               40.735324               -73.998004             540   \n",
       "2               40.731437               -73.994903            3244   \n",
       "3               40.747659               -73.984907             474   \n",
       "4               40.735877               -73.982050             504   \n",
       "\n",
       "          end station name  end station latitude  end station longitude  \\\n",
       "0   Central Park S & 6 Ave             40.765909             -73.976342   \n",
       "1  Lexington Ave & E 29 St             40.743116             -73.982154   \n",
       "2   University Pl & E 8 St             40.731437             -73.994903   \n",
       "3          5 Ave & E 29 St             40.745168             -73.986831   \n",
       "4          1 Ave & E 16 St             40.732219             -73.981656   \n",
       "\n",
       "   bikeid    usertype  birth year  gender  \n",
       "0   36515  Subscriber        1982       1  \n",
       "1   17406  Subscriber        1983       1  \n",
       "2   20775  Subscriber        1988       1  \n",
       "3   36270  Subscriber        1982       1  \n",
       "4   36051  Subscriber        1986       1  "
      ]
     },
     "execution_count": 74,
     "metadata": {},
     "output_type": "execute_result"
    }
   ],
   "source": [
    "# Preview 2019 data\n",
    "april_2019_df.head()"
   ]
  },
  {
   "cell_type": "markdown",
   "metadata": {},
   "source": [
    "## Create 2018 Start Stations Lat/Long Dataframe"
   ]
  },
  {
   "cell_type": "code",
   "execution_count": 75,
   "metadata": {},
   "outputs": [
    {
     "data": {
      "text/html": [
       "<div>\n",
       "<style scoped>\n",
       "    .dataframe tbody tr th:only-of-type {\n",
       "        vertical-align: middle;\n",
       "    }\n",
       "\n",
       "    .dataframe tbody tr th {\n",
       "        vertical-align: top;\n",
       "    }\n",
       "\n",
       "    .dataframe thead th {\n",
       "        text-align: right;\n",
       "    }\n",
       "</style>\n",
       "<table border=\"1\" class=\"dataframe\">\n",
       "  <thead>\n",
       "    <tr style=\"text-align: right;\">\n",
       "      <th></th>\n",
       "      <th>start station id</th>\n",
       "      <th>Station Name</th>\n",
       "      <th>start station latitude</th>\n",
       "      <th>start station longitude</th>\n",
       "    </tr>\n",
       "  </thead>\n",
       "  <tbody>\n",
       "    <tr>\n",
       "      <th>0</th>\n",
       "      <td>72</td>\n",
       "      <td>W 52 St &amp; 11 Ave</td>\n",
       "      <td>40.767272</td>\n",
       "      <td>-73.993929</td>\n",
       "    </tr>\n",
       "    <tr>\n",
       "      <th>2797</th>\n",
       "      <td>79</td>\n",
       "      <td>Franklin St &amp; W Broadway</td>\n",
       "      <td>40.719116</td>\n",
       "      <td>-74.006667</td>\n",
       "    </tr>\n",
       "    <tr>\n",
       "      <th>4889</th>\n",
       "      <td>82</td>\n",
       "      <td>St James Pl &amp; Pearl St</td>\n",
       "      <td>40.711174</td>\n",
       "      <td>-74.000165</td>\n",
       "    </tr>\n",
       "    <tr>\n",
       "      <th>5660</th>\n",
       "      <td>83</td>\n",
       "      <td>Atlantic Ave &amp; Fort Greene Pl</td>\n",
       "      <td>40.683826</td>\n",
       "      <td>-73.976323</td>\n",
       "    </tr>\n",
       "    <tr>\n",
       "      <th>6739</th>\n",
       "      <td>119</td>\n",
       "      <td>Park Ave &amp; St Edwards St</td>\n",
       "      <td>40.696089</td>\n",
       "      <td>-73.978034</td>\n",
       "    </tr>\n",
       "  </tbody>\n",
       "</table>\n",
       "</div>"
      ],
      "text/plain": [
       "      start station id                   Station Name  start station latitude  \\\n",
       "0                   72               W 52 St & 11 Ave               40.767272   \n",
       "2797                79       Franklin St & W Broadway               40.719116   \n",
       "4889                82         St James Pl & Pearl St               40.711174   \n",
       "5660                83  Atlantic Ave & Fort Greene Pl               40.683826   \n",
       "6739               119       Park Ave & St Edwards St               40.696089   \n",
       "\n",
       "      start station longitude  \n",
       "0                  -73.993929  \n",
       "2797               -74.006667  \n",
       "4889               -74.000165  \n",
       "5660               -73.976323  \n",
       "6739               -73.978034  "
      ]
     },
     "execution_count": 75,
     "metadata": {},
     "output_type": "execute_result"
    }
   ],
   "source": [
    "start_coordinates_2018_df = april_2018_df[[\"start station id\", \"start station name\", \"start station latitude\",\n",
    "                                       \"start station longitude\"]].copy()\n",
    "start_coordinates_2018_df = start_coordinates_2018_df.drop_duplicates()\n",
    "start_coordinates_2018_df = start_coordinates_2018_df.rename(columns = {\"start station name\" : \"Station Name\"})\n",
    "start_coordinates_2018_df.head()"
   ]
  },
  {
   "cell_type": "markdown",
   "metadata": {},
   "source": [
    "## Create 2019 Start Stations Lat/Long Dataframe"
   ]
  },
  {
   "cell_type": "code",
   "execution_count": 76,
   "metadata": {},
   "outputs": [
    {
     "data": {
      "text/html": [
       "<div>\n",
       "<style scoped>\n",
       "    .dataframe tbody tr th:only-of-type {\n",
       "        vertical-align: middle;\n",
       "    }\n",
       "\n",
       "    .dataframe tbody tr th {\n",
       "        vertical-align: top;\n",
       "    }\n",
       "\n",
       "    .dataframe thead th {\n",
       "        text-align: right;\n",
       "    }\n",
       "</style>\n",
       "<table border=\"1\" class=\"dataframe\">\n",
       "  <thead>\n",
       "    <tr style=\"text-align: right;\">\n",
       "      <th></th>\n",
       "      <th>start station id</th>\n",
       "      <th>Station Name</th>\n",
       "      <th>start station latitude</th>\n",
       "      <th>start station longitude</th>\n",
       "    </tr>\n",
       "  </thead>\n",
       "  <tbody>\n",
       "    <tr>\n",
       "      <th>0</th>\n",
       "      <td>2006</td>\n",
       "      <td>Central Park S &amp; 6 Ave</td>\n",
       "      <td>40.765909</td>\n",
       "      <td>-73.976342</td>\n",
       "    </tr>\n",
       "    <tr>\n",
       "      <th>1</th>\n",
       "      <td>254</td>\n",
       "      <td>W 11 St &amp; 6 Ave</td>\n",
       "      <td>40.735324</td>\n",
       "      <td>-73.998004</td>\n",
       "    </tr>\n",
       "    <tr>\n",
       "      <th>2</th>\n",
       "      <td>3244</td>\n",
       "      <td>University Pl &amp; E 8 St</td>\n",
       "      <td>40.731437</td>\n",
       "      <td>-73.994903</td>\n",
       "    </tr>\n",
       "    <tr>\n",
       "      <th>3</th>\n",
       "      <td>526</td>\n",
       "      <td>E 33 St &amp; 5 Ave</td>\n",
       "      <td>40.747659</td>\n",
       "      <td>-73.984907</td>\n",
       "    </tr>\n",
       "    <tr>\n",
       "      <th>4</th>\n",
       "      <td>461</td>\n",
       "      <td>E 20 St &amp; 2 Ave</td>\n",
       "      <td>40.735877</td>\n",
       "      <td>-73.982050</td>\n",
       "    </tr>\n",
       "  </tbody>\n",
       "</table>\n",
       "</div>"
      ],
      "text/plain": [
       "   start station id            Station Name  start station latitude  \\\n",
       "0              2006  Central Park S & 6 Ave               40.765909   \n",
       "1               254         W 11 St & 6 Ave               40.735324   \n",
       "2              3244  University Pl & E 8 St               40.731437   \n",
       "3               526         E 33 St & 5 Ave               40.747659   \n",
       "4               461         E 20 St & 2 Ave               40.735877   \n",
       "\n",
       "   start station longitude  \n",
       "0               -73.976342  \n",
       "1               -73.998004  \n",
       "2               -73.994903  \n",
       "3               -73.984907  \n",
       "4               -73.982050  "
      ]
     },
     "execution_count": 76,
     "metadata": {},
     "output_type": "execute_result"
    }
   ],
   "source": [
    "start_coordinates_2019_df = april_2019_df[[\"start station id\", \"start station name\", \"start station latitude\",\n",
    "                                       \"start station longitude\"]].copy()\n",
    "start_coordinates_2019_df = start_coordinates_2019_df.drop_duplicates()\n",
    "start_coordinates_2019_df = start_coordinates_2019_df.rename(columns = {\"start station name\" : \"Station Name\"})\n",
    "start_coordinates_2019_df.head()"
   ]
  },
  {
   "cell_type": "markdown",
   "metadata": {},
   "source": [
    "## Create 2018 End Stations Lat/Long Dataframe"
   ]
  },
  {
   "cell_type": "code",
   "execution_count": 77,
   "metadata": {},
   "outputs": [
    {
     "data": {
      "text/html": [
       "<div>\n",
       "<style scoped>\n",
       "    .dataframe tbody tr th:only-of-type {\n",
       "        vertical-align: middle;\n",
       "    }\n",
       "\n",
       "    .dataframe tbody tr th {\n",
       "        vertical-align: top;\n",
       "    }\n",
       "\n",
       "    .dataframe thead th {\n",
       "        text-align: right;\n",
       "    }\n",
       "</style>\n",
       "<table border=\"1\" class=\"dataframe\">\n",
       "  <thead>\n",
       "    <tr style=\"text-align: right;\">\n",
       "      <th></th>\n",
       "      <th>end station id</th>\n",
       "      <th>Station Name</th>\n",
       "      <th>end station latitude</th>\n",
       "      <th>end station longitude</th>\n",
       "    </tr>\n",
       "  </thead>\n",
       "  <tbody>\n",
       "    <tr>\n",
       "      <th>0</th>\n",
       "      <td>379</td>\n",
       "      <td>W 31 St &amp; 7 Ave</td>\n",
       "      <td>40.749156</td>\n",
       "      <td>-73.991600</td>\n",
       "    </tr>\n",
       "    <tr>\n",
       "      <th>1</th>\n",
       "      <td>426</td>\n",
       "      <td>West St &amp; Chambers St</td>\n",
       "      <td>40.717548</td>\n",
       "      <td>-74.013221</td>\n",
       "    </tr>\n",
       "    <tr>\n",
       "      <th>2</th>\n",
       "      <td>447</td>\n",
       "      <td>8 Ave &amp; W 52 St</td>\n",
       "      <td>40.763707</td>\n",
       "      <td>-73.985162</td>\n",
       "    </tr>\n",
       "    <tr>\n",
       "      <th>3</th>\n",
       "      <td>173</td>\n",
       "      <td>Broadway &amp; W 49 St</td>\n",
       "      <td>40.760683</td>\n",
       "      <td>-73.984527</td>\n",
       "    </tr>\n",
       "    <tr>\n",
       "      <th>4</th>\n",
       "      <td>3159</td>\n",
       "      <td>W 67 St &amp; Broadway</td>\n",
       "      <td>40.774925</td>\n",
       "      <td>-73.982666</td>\n",
       "    </tr>\n",
       "  </tbody>\n",
       "</table>\n",
       "</div>"
      ],
      "text/plain": [
       "   end station id           Station Name  end station latitude  \\\n",
       "0             379        W 31 St & 7 Ave             40.749156   \n",
       "1             426  West St & Chambers St             40.717548   \n",
       "2             447        8 Ave & W 52 St             40.763707   \n",
       "3             173     Broadway & W 49 St             40.760683   \n",
       "4            3159     W 67 St & Broadway             40.774925   \n",
       "\n",
       "   end station longitude  \n",
       "0             -73.991600  \n",
       "1             -74.013221  \n",
       "2             -73.985162  \n",
       "3             -73.984527  \n",
       "4             -73.982666  "
      ]
     },
     "execution_count": 77,
     "metadata": {},
     "output_type": "execute_result"
    }
   ],
   "source": [
    "end_coordinates_2018_df = april_2018_df[[\"end station id\", \"end station name\", \"end station latitude\",\n",
    "                                       \"end station longitude\"]].copy()\n",
    "end_coordinates_2018_df = end_coordinates_2018_df.drop_duplicates()\n",
    "end_coordinates_2018_df = end_coordinates_2018_df.rename(columns = {\"end station name\" : \"Station Name\"})\n",
    "end_coordinates_2018_df.head()"
   ]
  },
  {
   "cell_type": "markdown",
   "metadata": {},
   "source": [
    "## Create 2019 End Stations Lat/Long Dataframe"
   ]
  },
  {
   "cell_type": "code",
   "execution_count": 78,
   "metadata": {},
   "outputs": [
    {
     "data": {
      "text/html": [
       "<div>\n",
       "<style scoped>\n",
       "    .dataframe tbody tr th:only-of-type {\n",
       "        vertical-align: middle;\n",
       "    }\n",
       "\n",
       "    .dataframe tbody tr th {\n",
       "        vertical-align: top;\n",
       "    }\n",
       "\n",
       "    .dataframe thead th {\n",
       "        text-align: right;\n",
       "    }\n",
       "</style>\n",
       "<table border=\"1\" class=\"dataframe\">\n",
       "  <thead>\n",
       "    <tr style=\"text-align: right;\">\n",
       "      <th></th>\n",
       "      <th>end station id</th>\n",
       "      <th>Station Name</th>\n",
       "      <th>end station latitude</th>\n",
       "      <th>end station longitude</th>\n",
       "    </tr>\n",
       "  </thead>\n",
       "  <tbody>\n",
       "    <tr>\n",
       "      <th>0</th>\n",
       "      <td>2006</td>\n",
       "      <td>Central Park S &amp; 6 Ave</td>\n",
       "      <td>40.765909</td>\n",
       "      <td>-73.976342</td>\n",
       "    </tr>\n",
       "    <tr>\n",
       "      <th>1</th>\n",
       "      <td>540</td>\n",
       "      <td>Lexington Ave &amp; E 29 St</td>\n",
       "      <td>40.743116</td>\n",
       "      <td>-73.982154</td>\n",
       "    </tr>\n",
       "    <tr>\n",
       "      <th>2</th>\n",
       "      <td>3244</td>\n",
       "      <td>University Pl &amp; E 8 St</td>\n",
       "      <td>40.731437</td>\n",
       "      <td>-73.994903</td>\n",
       "    </tr>\n",
       "    <tr>\n",
       "      <th>3</th>\n",
       "      <td>474</td>\n",
       "      <td>5 Ave &amp; E 29 St</td>\n",
       "      <td>40.745168</td>\n",
       "      <td>-73.986831</td>\n",
       "    </tr>\n",
       "    <tr>\n",
       "      <th>4</th>\n",
       "      <td>504</td>\n",
       "      <td>1 Ave &amp; E 16 St</td>\n",
       "      <td>40.732219</td>\n",
       "      <td>-73.981656</td>\n",
       "    </tr>\n",
       "  </tbody>\n",
       "</table>\n",
       "</div>"
      ],
      "text/plain": [
       "   end station id             Station Name  end station latitude  \\\n",
       "0            2006   Central Park S & 6 Ave             40.765909   \n",
       "1             540  Lexington Ave & E 29 St             40.743116   \n",
       "2            3244   University Pl & E 8 St             40.731437   \n",
       "3             474          5 Ave & E 29 St             40.745168   \n",
       "4             504          1 Ave & E 16 St             40.732219   \n",
       "\n",
       "   end station longitude  \n",
       "0             -73.976342  \n",
       "1             -73.982154  \n",
       "2             -73.994903  \n",
       "3             -73.986831  \n",
       "4             -73.981656  "
      ]
     },
     "execution_count": 78,
     "metadata": {},
     "output_type": "execute_result"
    }
   ],
   "source": [
    "end_coordinates_2019_df = april_2019_df[[\"end station id\", \"end station name\", \"end station latitude\",\n",
    "                                       \"end station longitude\"]].copy()\n",
    "end_coordinates_2019_df = end_coordinates_2019_df.drop_duplicates()\n",
    "end_coordinates_2019_df = end_coordinates_2019_df.rename(columns = {\"end station name\" : \"Station Name\"})\n",
    "end_coordinates_2019_df.head()"
   ]
  },
  {
   "cell_type": "markdown",
   "metadata": {},
   "source": [
    "## Create 2018 Start Stations Dataframe"
   ]
  },
  {
   "cell_type": "code",
   "execution_count": 79,
   "metadata": {},
   "outputs": [],
   "source": [
    "# Create Start Stations 2018 dataframe\n",
    "start_stations_2018_df = april_2018_df[[\"start station id\", \"start station name\"]].copy()\n",
    "\n",
    "# Organize and calculate total number of starts for each unique station\n",
    "start_stations_2018_df = start_stations_2018_df.groupby(\"start station name\").count()\n",
    "start_stations_2018_df = start_stations_2018_df.sort_values(by = \"start station id\", ascending = False)\n",
    "\n",
    "# Rename column Number of Starts column and reset index\n",
    "start_stations_2018_df = start_stations_2018_df.rename(columns = {\"start station id\": \"Number of Starts 2018\"})\n",
    "start_stations_2018_df = start_stations_2018_df.reset_index()"
   ]
  },
  {
   "cell_type": "code",
   "execution_count": 92,
   "metadata": {},
   "outputs": [
    {
     "data": {
      "text/html": [
       "<div>\n",
       "<style scoped>\n",
       "    .dataframe tbody tr th:only-of-type {\n",
       "        vertical-align: middle;\n",
       "    }\n",
       "\n",
       "    .dataframe tbody tr th {\n",
       "        vertical-align: top;\n",
       "    }\n",
       "\n",
       "    .dataframe thead th {\n",
       "        text-align: right;\n",
       "    }\n",
       "</style>\n",
       "<table border=\"1\" class=\"dataframe\">\n",
       "  <thead>\n",
       "    <tr style=\"text-align: right;\">\n",
       "      <th></th>\n",
       "      <th>Station Name</th>\n",
       "      <th>Number of Starts 2018</th>\n",
       "      <th>Percentage of Total Starts 2018</th>\n",
       "    </tr>\n",
       "  </thead>\n",
       "  <tbody>\n",
       "    <tr>\n",
       "      <th>0</th>\n",
       "      <td>Pershing Square North</td>\n",
       "      <td>12026</td>\n",
       "      <td>26.26</td>\n",
       "    </tr>\n",
       "    <tr>\n",
       "      <th>1</th>\n",
       "      <td>E 17 St &amp; Broadway</td>\n",
       "      <td>8765</td>\n",
       "      <td>19.14</td>\n",
       "    </tr>\n",
       "    <tr>\n",
       "      <th>2</th>\n",
       "      <td>Broadway &amp; E 22 St</td>\n",
       "      <td>8747</td>\n",
       "      <td>19.10</td>\n",
       "    </tr>\n",
       "    <tr>\n",
       "      <th>3</th>\n",
       "      <td>W 21 St &amp; 6 Ave</td>\n",
       "      <td>8269</td>\n",
       "      <td>18.05</td>\n",
       "    </tr>\n",
       "    <tr>\n",
       "      <th>4</th>\n",
       "      <td>8 Ave &amp; W 31 St</td>\n",
       "      <td>7257</td>\n",
       "      <td>15.84</td>\n",
       "    </tr>\n",
       "  </tbody>\n",
       "</table>\n",
       "</div>"
      ],
      "text/plain": [
       "            Station Name  Number of Starts 2018  \\\n",
       "0  Pershing Square North                  12026   \n",
       "1     E 17 St & Broadway                   8765   \n",
       "2     Broadway & E 22 St                   8747   \n",
       "3        W 21 St & 6 Ave                   8269   \n",
       "4        8 Ave & W 31 St                   7257   \n",
       "\n",
       "   Percentage of Total Starts 2018  \n",
       "0                            26.26  \n",
       "1                            19.14  \n",
       "2                            19.10  \n",
       "3                            18.05  \n",
       "4                            15.84  "
      ]
     },
     "execution_count": 92,
     "metadata": {},
     "output_type": "execute_result"
    }
   ],
   "source": [
    "# Rename Station column\n",
    "start_stations_2018_df = start_stations_2018_df.rename(columns = {\"start station name\": \"Station Name\"})\n",
    "\n",
    "# Calculate Percentage of Total Starts 2018\n",
    "start_stations_2018_df[\"Percentage of Total Starts 2018\"] = round(start_stations_2018_df[\"Number of Starts 2018\"]/start_stations_2018_df[\"Station Name\"].count(),2)\n",
    "\n",
    "start_stations_2018_df.head()"
   ]
  },
  {
   "cell_type": "markdown",
   "metadata": {},
   "source": [
    "## Create 2019 Start Station Dataframe"
   ]
  },
  {
   "cell_type": "code",
   "execution_count": 96,
   "metadata": {},
   "outputs": [],
   "source": [
    "# Create Start Stations 2019 dataframe\n",
    "start_stations_2019_df = april_2019_df[[\"start station id\", \"start station name\"]].copy()\n",
    "\n",
    "# Organize and calculate total number of starts for each unique station\n",
    "start_stations_2019_df = start_stations_2019_df.groupby(\"start station name\").count()\n",
    "start_stations_2019_df = start_stations_2019_df.sort_values(by = \"start station id\", ascending = False)\n",
    "\n",
    "# Rename column Number of Starts column and reset index\n",
    "start_stations_2019_df = start_stations_2019_df.rename(columns = {\"start station id\": \"Number of Starts 2019\"})\n",
    "start_stations_2019_df = start_stations_2019_df.reset_index()"
   ]
  },
  {
   "cell_type": "code",
   "execution_count": 97,
   "metadata": {},
   "outputs": [
    {
     "data": {
      "text/html": [
       "<div>\n",
       "<style scoped>\n",
       "    .dataframe tbody tr th:only-of-type {\n",
       "        vertical-align: middle;\n",
       "    }\n",
       "\n",
       "    .dataframe tbody tr th {\n",
       "        vertical-align: top;\n",
       "    }\n",
       "\n",
       "    .dataframe thead th {\n",
       "        text-align: right;\n",
       "    }\n",
       "</style>\n",
       "<table border=\"1\" class=\"dataframe\">\n",
       "  <thead>\n",
       "    <tr style=\"text-align: right;\">\n",
       "      <th></th>\n",
       "      <th>Station Name</th>\n",
       "      <th>Number of Starts 2019</th>\n",
       "      <th>Percentage of Total Starts 2019</th>\n",
       "    </tr>\n",
       "  </thead>\n",
       "  <tbody>\n",
       "    <tr>\n",
       "      <th>0</th>\n",
       "      <td>Pershing Square North</td>\n",
       "      <td>8091</td>\n",
       "      <td>10.52</td>\n",
       "    </tr>\n",
       "    <tr>\n",
       "      <th>1</th>\n",
       "      <td>8 Ave &amp; W 31 St</td>\n",
       "      <td>6482</td>\n",
       "      <td>8.43</td>\n",
       "    </tr>\n",
       "    <tr>\n",
       "      <th>2</th>\n",
       "      <td>Broadway &amp; E 22 St</td>\n",
       "      <td>6281</td>\n",
       "      <td>8.17</td>\n",
       "    </tr>\n",
       "    <tr>\n",
       "      <th>3</th>\n",
       "      <td>E 17 St &amp; Broadway</td>\n",
       "      <td>6202</td>\n",
       "      <td>8.07</td>\n",
       "    </tr>\n",
       "    <tr>\n",
       "      <th>4</th>\n",
       "      <td>W 21 St &amp; 6 Ave</td>\n",
       "      <td>5746</td>\n",
       "      <td>7.47</td>\n",
       "    </tr>\n",
       "  </tbody>\n",
       "</table>\n",
       "</div>"
      ],
      "text/plain": [
       "            Station Name  Number of Starts 2019  \\\n",
       "0  Pershing Square North                   8091   \n",
       "1        8 Ave & W 31 St                   6482   \n",
       "2     Broadway & E 22 St                   6281   \n",
       "3     E 17 St & Broadway                   6202   \n",
       "4        W 21 St & 6 Ave                   5746   \n",
       "\n",
       "   Percentage of Total Starts 2019  \n",
       "0                            10.52  \n",
       "1                             8.43  \n",
       "2                             8.17  \n",
       "3                             8.07  \n",
       "4                             7.47  "
      ]
     },
     "execution_count": 97,
     "metadata": {},
     "output_type": "execute_result"
    }
   ],
   "source": [
    "# Rename Station column\n",
    "start_stations_2019_df = start_stations_2019_df.rename(columns = {\"start station name\": \"Station Name\"})\n",
    "\n",
    "# Calculate Percentage of Total Starts 2019\n",
    "start_stations_2019_df[\"Percentage of Total Starts 2019\"] = round(start_stations_2019_df[\"Number of Starts 2019\"]/start_stations_2019_df[\"Station Name\"].count(),2)\n",
    "\n",
    "start_stations_2019_df.head()"
   ]
  },
  {
   "cell_type": "markdown",
   "metadata": {},
   "source": [
    "## Create 2018 End Stations Dataframe"
   ]
  },
  {
   "cell_type": "code",
   "execution_count": 98,
   "metadata": {},
   "outputs": [],
   "source": [
    "# Create End Stations 2018 dataframe\n",
    "end_stations_2018_df = april_2018_df[[\"end station id\", \"end station name\"]].copy()\n",
    "\n",
    "# Organize and calculate total number of etarts for each unique station\n",
    "end_stations_2018_df = end_stations_2018_df.groupby(\"end station name\").count()\n",
    "end_stations_2018_df = end_stations_2018_df.sort_values(by = \"end station id\", ascending = False)\n",
    "\n",
    "# Rename column Number of Ends column and reset index\n",
    "end_stations_2018_df = end_stations_2018_df.rename(columns = {\"end station id\": \"Number of Ends 2018\"})\n",
    "end_stations_2018_df = end_stations_2018_df.reset_index()"
   ]
  },
  {
   "cell_type": "code",
   "execution_count": 99,
   "metadata": {},
   "outputs": [
    {
     "data": {
      "text/html": [
       "<div>\n",
       "<style scoped>\n",
       "    .dataframe tbody tr th:only-of-type {\n",
       "        vertical-align: middle;\n",
       "    }\n",
       "\n",
       "    .dataframe tbody tr th {\n",
       "        vertical-align: top;\n",
       "    }\n",
       "\n",
       "    .dataframe thead th {\n",
       "        text-align: right;\n",
       "    }\n",
       "</style>\n",
       "<table border=\"1\" class=\"dataframe\">\n",
       "  <thead>\n",
       "    <tr style=\"text-align: right;\">\n",
       "      <th></th>\n",
       "      <th>Station Name</th>\n",
       "      <th>Number of Ends 2018</th>\n",
       "      <th>Percentage of Total Ends 2018</th>\n",
       "    </tr>\n",
       "  </thead>\n",
       "  <tbody>\n",
       "    <tr>\n",
       "      <th>0</th>\n",
       "      <td>Pershing Square North</td>\n",
       "      <td>10637</td>\n",
       "      <td>13.83</td>\n",
       "    </tr>\n",
       "    <tr>\n",
       "      <th>1</th>\n",
       "      <td>E 17 St &amp; Broadway</td>\n",
       "      <td>8105</td>\n",
       "      <td>10.54</td>\n",
       "    </tr>\n",
       "    <tr>\n",
       "      <th>2</th>\n",
       "      <td>Broadway &amp; E 22 St</td>\n",
       "      <td>7930</td>\n",
       "      <td>10.31</td>\n",
       "    </tr>\n",
       "    <tr>\n",
       "      <th>3</th>\n",
       "      <td>W 21 St &amp; 6 Ave</td>\n",
       "      <td>7718</td>\n",
       "      <td>10.04</td>\n",
       "    </tr>\n",
       "    <tr>\n",
       "      <th>4</th>\n",
       "      <td>Broadway &amp; E 14 St</td>\n",
       "      <td>6462</td>\n",
       "      <td>8.40</td>\n",
       "    </tr>\n",
       "  </tbody>\n",
       "</table>\n",
       "</div>"
      ],
      "text/plain": [
       "            Station Name  Number of Ends 2018  Percentage of Total Ends 2018\n",
       "0  Pershing Square North                10637                          13.83\n",
       "1     E 17 St & Broadway                 8105                          10.54\n",
       "2     Broadway & E 22 St                 7930                          10.31\n",
       "3        W 21 St & 6 Ave                 7718                          10.04\n",
       "4     Broadway & E 14 St                 6462                           8.40"
      ]
     },
     "execution_count": 99,
     "metadata": {},
     "output_type": "execute_result"
    }
   ],
   "source": [
    "# Rename Station column\n",
    "end_stations_2018_df = end_stations_2018_df.rename(columns = {\"end station name\": \"Station Name\"})\n",
    "\n",
    "# Calculate Percentage of Total Ends 2018\n",
    "end_stations_2018_df[\"Percentage of Total Ends 2018\"] = round(end_stations_2018_df[\"Number of Ends 2018\"]/end_stations_2018_df[\"Station Name\"].count(),2)\n",
    "end_stations_2018_df.head()"
   ]
  },
  {
   "cell_type": "markdown",
   "metadata": {},
   "source": [
    "## Create 2019 End Stations Dataframe"
   ]
  },
  {
   "cell_type": "code",
   "execution_count": 100,
   "metadata": {},
   "outputs": [],
   "source": [
    "# Create End Stations 2019 dataframe\n",
    "end_stations_2019_df = april_2019_df[[\"end station id\", \"end station name\"]].copy()\n",
    "\n",
    "# Organize and calculate total number of etarts for each unique station\n",
    "end_stations_2019_df = end_stations_2019_df.groupby(\"end station name\").count()\n",
    "end_stations_2019_df = end_stations_2019_df.sort_values(by = \"end station id\", ascending = False)\n",
    "\n",
    "# Rename column Number of Ends column and reset index\n",
    "end_stations_2019_df = end_stations_2019_df.rename(columns = {\"end station id\": \"Number of Ends 2019\"})\n",
    "end_stations_2019_df = end_stations_2019_df.reset_index()"
   ]
  },
  {
   "cell_type": "code",
   "execution_count": 101,
   "metadata": {},
   "outputs": [
    {
     "data": {
      "text/html": [
       "<div>\n",
       "<style scoped>\n",
       "    .dataframe tbody tr th:only-of-type {\n",
       "        vertical-align: middle;\n",
       "    }\n",
       "\n",
       "    .dataframe tbody tr th {\n",
       "        vertical-align: top;\n",
       "    }\n",
       "\n",
       "    .dataframe thead th {\n",
       "        text-align: right;\n",
       "    }\n",
       "</style>\n",
       "<table border=\"1\" class=\"dataframe\">\n",
       "  <thead>\n",
       "    <tr style=\"text-align: right;\">\n",
       "      <th></th>\n",
       "      <th>Station Name</th>\n",
       "      <th>Number of Ends 2019</th>\n",
       "      <th>Percentage of Total Ends 2019</th>\n",
       "    </tr>\n",
       "  </thead>\n",
       "  <tbody>\n",
       "    <tr>\n",
       "      <th>0</th>\n",
       "      <td>Pershing Square North</td>\n",
       "      <td>8046</td>\n",
       "      <td>10.36</td>\n",
       "    </tr>\n",
       "    <tr>\n",
       "      <th>1</th>\n",
       "      <td>Broadway &amp; E 22 St</td>\n",
       "      <td>6603</td>\n",
       "      <td>8.50</td>\n",
       "    </tr>\n",
       "    <tr>\n",
       "      <th>2</th>\n",
       "      <td>E 17 St &amp; Broadway</td>\n",
       "      <td>6345</td>\n",
       "      <td>8.17</td>\n",
       "    </tr>\n",
       "    <tr>\n",
       "      <th>3</th>\n",
       "      <td>8 Ave &amp; W 31 St</td>\n",
       "      <td>6339</td>\n",
       "      <td>8.16</td>\n",
       "    </tr>\n",
       "    <tr>\n",
       "      <th>4</th>\n",
       "      <td>W 21 St &amp; 6 Ave</td>\n",
       "      <td>5764</td>\n",
       "      <td>7.42</td>\n",
       "    </tr>\n",
       "  </tbody>\n",
       "</table>\n",
       "</div>"
      ],
      "text/plain": [
       "            Station Name  Number of Ends 2019  Percentage of Total Ends 2019\n",
       "0  Pershing Square North                 8046                          10.36\n",
       "1     Broadway & E 22 St                 6603                           8.50\n",
       "2     E 17 St & Broadway                 6345                           8.17\n",
       "3        8 Ave & W 31 St                 6339                           8.16\n",
       "4        W 21 St & 6 Ave                 5764                           7.42"
      ]
     },
     "execution_count": 101,
     "metadata": {},
     "output_type": "execute_result"
    }
   ],
   "source": [
    "# Rename Station column\n",
    "end_stations_2019_df = end_stations_2019_df.rename(columns = {\"end station name\": \"Station Name\"})\n",
    "\n",
    "# Calculate Percentage of Total Ends 2019\n",
    "end_stations_2019_df[\"Percentage of Total Ends 2019\"] = round(end_stations_2019_df[\"Number of Ends 2019\"]/end_stations_2019_df[\"Station Name\"].count(),2)\n",
    "end_stations_2019_df.head()"
   ]
  },
  {
   "cell_type": "markdown",
   "metadata": {},
   "source": [
    "## Merge Start Coorindates 2018 and Start Stations 2018 Dataframes"
   ]
  },
  {
   "cell_type": "code",
   "execution_count": 102,
   "metadata": {},
   "outputs": [
    {
     "data": {
      "text/html": [
       "<div>\n",
       "<style scoped>\n",
       "    .dataframe tbody tr th:only-of-type {\n",
       "        vertical-align: middle;\n",
       "    }\n",
       "\n",
       "    .dataframe tbody tr th {\n",
       "        vertical-align: top;\n",
       "    }\n",
       "\n",
       "    .dataframe thead th {\n",
       "        text-align: right;\n",
       "    }\n",
       "</style>\n",
       "<table border=\"1\" class=\"dataframe\">\n",
       "  <thead>\n",
       "    <tr style=\"text-align: right;\">\n",
       "      <th></th>\n",
       "      <th>start station id</th>\n",
       "      <th>Station Name</th>\n",
       "      <th>start station latitude</th>\n",
       "      <th>start station longitude</th>\n",
       "      <th>Number of Starts 2018</th>\n",
       "      <th>Percentage of Total Starts 2018</th>\n",
       "    </tr>\n",
       "  </thead>\n",
       "  <tbody>\n",
       "    <tr>\n",
       "      <th>252</th>\n",
       "      <td>519</td>\n",
       "      <td>Pershing Square North</td>\n",
       "      <td>40.751873</td>\n",
       "      <td>-73.977706</td>\n",
       "      <td>12026</td>\n",
       "      <td>26.26</td>\n",
       "    </tr>\n",
       "    <tr>\n",
       "      <th>234</th>\n",
       "      <td>497</td>\n",
       "      <td>E 17 St &amp; Broadway</td>\n",
       "      <td>40.737050</td>\n",
       "      <td>-73.990093</td>\n",
       "      <td>8765</td>\n",
       "      <td>19.14</td>\n",
       "    </tr>\n",
       "    <tr>\n",
       "      <th>158</th>\n",
       "      <td>402</td>\n",
       "      <td>Broadway &amp; E 22 St</td>\n",
       "      <td>40.740343</td>\n",
       "      <td>-73.989551</td>\n",
       "      <td>8747</td>\n",
       "      <td>19.10</td>\n",
       "    </tr>\n",
       "    <tr>\n",
       "      <th>182</th>\n",
       "      <td>435</td>\n",
       "      <td>W 21 St &amp; 6 Ave</td>\n",
       "      <td>40.741740</td>\n",
       "      <td>-73.994156</td>\n",
       "      <td>8269</td>\n",
       "      <td>18.05</td>\n",
       "    </tr>\n",
       "    <tr>\n",
       "      <th>429</th>\n",
       "      <td>3255</td>\n",
       "      <td>8 Ave &amp; W 31 St</td>\n",
       "      <td>40.750585</td>\n",
       "      <td>-73.994685</td>\n",
       "      <td>7257</td>\n",
       "      <td>15.84</td>\n",
       "    </tr>\n",
       "  </tbody>\n",
       "</table>\n",
       "</div>"
      ],
      "text/plain": [
       "     start station id           Station Name  start station latitude  \\\n",
       "252               519  Pershing Square North               40.751873   \n",
       "234               497     E 17 St & Broadway               40.737050   \n",
       "158               402     Broadway & E 22 St               40.740343   \n",
       "182               435        W 21 St & 6 Ave               40.741740   \n",
       "429              3255        8 Ave & W 31 St               40.750585   \n",
       "\n",
       "     start station longitude  Number of Starts 2018  \\\n",
       "252               -73.977706                  12026   \n",
       "234               -73.990093                   8765   \n",
       "158               -73.989551                   8747   \n",
       "182               -73.994156                   8269   \n",
       "429               -73.994685                   7257   \n",
       "\n",
       "     Percentage of Total Starts 2018  \n",
       "252                            26.26  \n",
       "234                            19.14  \n",
       "158                            19.10  \n",
       "182                            18.05  \n",
       "429                            15.84  "
      ]
     },
     "execution_count": 102,
     "metadata": {},
     "output_type": "execute_result"
    }
   ],
   "source": [
    "complete_start_stations_2018_df = pd.merge(start_coordinates_2018_df, start_stations_2018_df, how = \"left\", on = [\"Station Name\"])\n",
    "complete_start_stations_2018_df = complete_start_stations_2018_df.sort_values(by = \"Number of Starts 2018\", ascending = False)\n",
    "complete_start_stations_2018_df.head()"
   ]
  },
  {
   "cell_type": "markdown",
   "metadata": {},
   "source": [
    "## Merge Start Coorindates 2019 and Start Stations 2019 Dataframes"
   ]
  },
  {
   "cell_type": "code",
   "execution_count": 103,
   "metadata": {},
   "outputs": [
    {
     "data": {
      "text/html": [
       "<div>\n",
       "<style scoped>\n",
       "    .dataframe tbody tr th:only-of-type {\n",
       "        vertical-align: middle;\n",
       "    }\n",
       "\n",
       "    .dataframe tbody tr th {\n",
       "        vertical-align: top;\n",
       "    }\n",
       "\n",
       "    .dataframe thead th {\n",
       "        text-align: right;\n",
       "    }\n",
       "</style>\n",
       "<table border=\"1\" class=\"dataframe\">\n",
       "  <thead>\n",
       "    <tr style=\"text-align: right;\">\n",
       "      <th></th>\n",
       "      <th>start station id</th>\n",
       "      <th>Station Name</th>\n",
       "      <th>start station latitude</th>\n",
       "      <th>start station longitude</th>\n",
       "      <th>Number of Starts 2019</th>\n",
       "      <th>Percentage of Total Starts 2019</th>\n",
       "    </tr>\n",
       "  </thead>\n",
       "  <tbody>\n",
       "    <tr>\n",
       "      <th>48</th>\n",
       "      <td>519</td>\n",
       "      <td>Pershing Square North</td>\n",
       "      <td>40.751873</td>\n",
       "      <td>-73.977706</td>\n",
       "      <td>8091</td>\n",
       "      <td>10.52</td>\n",
       "    </tr>\n",
       "    <tr>\n",
       "      <th>86</th>\n",
       "      <td>3255</td>\n",
       "      <td>8 Ave &amp; W 31 St</td>\n",
       "      <td>40.750585</td>\n",
       "      <td>-73.994685</td>\n",
       "      <td>6482</td>\n",
       "      <td>8.43</td>\n",
       "    </tr>\n",
       "    <tr>\n",
       "      <th>311</th>\n",
       "      <td>402</td>\n",
       "      <td>Broadway &amp; E 22 St</td>\n",
       "      <td>40.740343</td>\n",
       "      <td>-73.989551</td>\n",
       "      <td>6281</td>\n",
       "      <td>8.17</td>\n",
       "    </tr>\n",
       "    <tr>\n",
       "      <th>161</th>\n",
       "      <td>497</td>\n",
       "      <td>E 17 St &amp; Broadway</td>\n",
       "      <td>40.737050</td>\n",
       "      <td>-73.990093</td>\n",
       "      <td>6202</td>\n",
       "      <td>8.07</td>\n",
       "    </tr>\n",
       "    <tr>\n",
       "      <th>10</th>\n",
       "      <td>435</td>\n",
       "      <td>W 21 St &amp; 6 Ave</td>\n",
       "      <td>40.741740</td>\n",
       "      <td>-73.994156</td>\n",
       "      <td>5746</td>\n",
       "      <td>7.47</td>\n",
       "    </tr>\n",
       "  </tbody>\n",
       "</table>\n",
       "</div>"
      ],
      "text/plain": [
       "     start station id           Station Name  start station latitude  \\\n",
       "48                519  Pershing Square North               40.751873   \n",
       "86               3255        8 Ave & W 31 St               40.750585   \n",
       "311               402     Broadway & E 22 St               40.740343   \n",
       "161               497     E 17 St & Broadway               40.737050   \n",
       "10                435        W 21 St & 6 Ave               40.741740   \n",
       "\n",
       "     start station longitude  Number of Starts 2019  \\\n",
       "48                -73.977706                   8091   \n",
       "86                -73.994685                   6482   \n",
       "311               -73.989551                   6281   \n",
       "161               -73.990093                   6202   \n",
       "10                -73.994156                   5746   \n",
       "\n",
       "     Percentage of Total Starts 2019  \n",
       "48                             10.52  \n",
       "86                              8.43  \n",
       "311                             8.17  \n",
       "161                             8.07  \n",
       "10                              7.47  "
      ]
     },
     "execution_count": 103,
     "metadata": {},
     "output_type": "execute_result"
    }
   ],
   "source": [
    "complete_start_stations_2019_df = pd.merge(start_coordinates_2019_df, start_stations_2019_df, how = \"left\", on = [\"Station Name\"])\n",
    "complete_start_stations_2019_df = complete_start_stations_2019_df.sort_values(by = \"Number of Starts 2019\", ascending = False)\n",
    "complete_start_stations_2019_df.head()"
   ]
  },
  {
   "cell_type": "markdown",
   "metadata": {},
   "source": [
    "## Merge End Coorindates 2018 and End Stations 2018 Dataframes"
   ]
  },
  {
   "cell_type": "code",
   "execution_count": 104,
   "metadata": {},
   "outputs": [
    {
     "data": {
      "text/html": [
       "<div>\n",
       "<style scoped>\n",
       "    .dataframe tbody tr th:only-of-type {\n",
       "        vertical-align: middle;\n",
       "    }\n",
       "\n",
       "    .dataframe tbody tr th {\n",
       "        vertical-align: top;\n",
       "    }\n",
       "\n",
       "    .dataframe thead th {\n",
       "        text-align: right;\n",
       "    }\n",
       "</style>\n",
       "<table border=\"1\" class=\"dataframe\">\n",
       "  <thead>\n",
       "    <tr style=\"text-align: right;\">\n",
       "      <th></th>\n",
       "      <th>end station id</th>\n",
       "      <th>Station Name</th>\n",
       "      <th>end station latitude</th>\n",
       "      <th>end station longitude</th>\n",
       "      <th>Number of Ends 2018</th>\n",
       "      <th>Percentage of Total Ends 2018</th>\n",
       "    </tr>\n",
       "  </thead>\n",
       "  <tbody>\n",
       "    <tr>\n",
       "      <th>44</th>\n",
       "      <td>519</td>\n",
       "      <td>Pershing Square North</td>\n",
       "      <td>40.751873</td>\n",
       "      <td>-73.977706</td>\n",
       "      <td>10637</td>\n",
       "      <td>13.83</td>\n",
       "    </tr>\n",
       "    <tr>\n",
       "      <th>34</th>\n",
       "      <td>497</td>\n",
       "      <td>E 17 St &amp; Broadway</td>\n",
       "      <td>40.737050</td>\n",
       "      <td>-73.990093</td>\n",
       "      <td>8105</td>\n",
       "      <td>10.54</td>\n",
       "    </tr>\n",
       "    <tr>\n",
       "      <th>162</th>\n",
       "      <td>402</td>\n",
       "      <td>Broadway &amp; E 22 St</td>\n",
       "      <td>40.740343</td>\n",
       "      <td>-73.989551</td>\n",
       "      <td>7930</td>\n",
       "      <td>10.31</td>\n",
       "    </tr>\n",
       "    <tr>\n",
       "      <th>80</th>\n",
       "      <td>435</td>\n",
       "      <td>W 21 St &amp; 6 Ave</td>\n",
       "      <td>40.741740</td>\n",
       "      <td>-73.994156</td>\n",
       "      <td>7718</td>\n",
       "      <td>10.04</td>\n",
       "    </tr>\n",
       "    <tr>\n",
       "      <th>289</th>\n",
       "      <td>285</td>\n",
       "      <td>Broadway &amp; E 14 St</td>\n",
       "      <td>40.734546</td>\n",
       "      <td>-73.990741</td>\n",
       "      <td>6462</td>\n",
       "      <td>8.40</td>\n",
       "    </tr>\n",
       "  </tbody>\n",
       "</table>\n",
       "</div>"
      ],
      "text/plain": [
       "     end station id           Station Name  end station latitude  \\\n",
       "44              519  Pershing Square North             40.751873   \n",
       "34              497     E 17 St & Broadway             40.737050   \n",
       "162             402     Broadway & E 22 St             40.740343   \n",
       "80              435        W 21 St & 6 Ave             40.741740   \n",
       "289             285     Broadway & E 14 St             40.734546   \n",
       "\n",
       "     end station longitude  Number of Ends 2018  Percentage of Total Ends 2018  \n",
       "44              -73.977706                10637                          13.83  \n",
       "34              -73.990093                 8105                          10.54  \n",
       "162             -73.989551                 7930                          10.31  \n",
       "80              -73.994156                 7718                          10.04  \n",
       "289             -73.990741                 6462                           8.40  "
      ]
     },
     "execution_count": 104,
     "metadata": {},
     "output_type": "execute_result"
    }
   ],
   "source": [
    "complete_end_stations_2018_df = pd.merge(end_coordinates_2018_df, end_stations_2018_df, how = \"left\", on = [\"Station Name\"])\n",
    "complete_end_stations_2018_df = complete_end_stations_2018_df.sort_values(by = \"Number of Ends 2018\", ascending = False)\n",
    "complete_end_stations_2018_df.head()"
   ]
  },
  {
   "cell_type": "markdown",
   "metadata": {},
   "source": [
    "## Merge End Coorindates 2019 and End Stations 2019 Dataframes"
   ]
  },
  {
   "cell_type": "code",
   "execution_count": 105,
   "metadata": {},
   "outputs": [
    {
     "data": {
      "text/html": [
       "<div>\n",
       "<style scoped>\n",
       "    .dataframe tbody tr th:only-of-type {\n",
       "        vertical-align: middle;\n",
       "    }\n",
       "\n",
       "    .dataframe tbody tr th {\n",
       "        vertical-align: top;\n",
       "    }\n",
       "\n",
       "    .dataframe thead th {\n",
       "        text-align: right;\n",
       "    }\n",
       "</style>\n",
       "<table border=\"1\" class=\"dataframe\">\n",
       "  <thead>\n",
       "    <tr style=\"text-align: right;\">\n",
       "      <th></th>\n",
       "      <th>end station id</th>\n",
       "      <th>Station Name</th>\n",
       "      <th>end station latitude</th>\n",
       "      <th>end station longitude</th>\n",
       "      <th>Number of Ends 2019</th>\n",
       "      <th>Percentage of Total Ends 2019</th>\n",
       "    </tr>\n",
       "  </thead>\n",
       "  <tbody>\n",
       "    <tr>\n",
       "      <th>63</th>\n",
       "      <td>519</td>\n",
       "      <td>Pershing Square North</td>\n",
       "      <td>40.751873</td>\n",
       "      <td>-73.977706</td>\n",
       "      <td>8046</td>\n",
       "      <td>10.36</td>\n",
       "    </tr>\n",
       "    <tr>\n",
       "      <th>240</th>\n",
       "      <td>402</td>\n",
       "      <td>Broadway &amp; E 22 St</td>\n",
       "      <td>40.740343</td>\n",
       "      <td>-73.989551</td>\n",
       "      <td>6603</td>\n",
       "      <td>8.50</td>\n",
       "    </tr>\n",
       "    <tr>\n",
       "      <th>121</th>\n",
       "      <td>497</td>\n",
       "      <td>E 17 St &amp; Broadway</td>\n",
       "      <td>40.737050</td>\n",
       "      <td>-73.990093</td>\n",
       "      <td>6345</td>\n",
       "      <td>8.17</td>\n",
       "    </tr>\n",
       "    <tr>\n",
       "      <th>209</th>\n",
       "      <td>3255</td>\n",
       "      <td>8 Ave &amp; W 31 St</td>\n",
       "      <td>40.750585</td>\n",
       "      <td>-73.994685</td>\n",
       "      <td>6339</td>\n",
       "      <td>8.16</td>\n",
       "    </tr>\n",
       "    <tr>\n",
       "      <th>267</th>\n",
       "      <td>435</td>\n",
       "      <td>W 21 St &amp; 6 Ave</td>\n",
       "      <td>40.741740</td>\n",
       "      <td>-73.994156</td>\n",
       "      <td>5764</td>\n",
       "      <td>7.42</td>\n",
       "    </tr>\n",
       "  </tbody>\n",
       "</table>\n",
       "</div>"
      ],
      "text/plain": [
       "     end station id           Station Name  end station latitude  \\\n",
       "63              519  Pershing Square North             40.751873   \n",
       "240             402     Broadway & E 22 St             40.740343   \n",
       "121             497     E 17 St & Broadway             40.737050   \n",
       "209            3255        8 Ave & W 31 St             40.750585   \n",
       "267             435        W 21 St & 6 Ave             40.741740   \n",
       "\n",
       "     end station longitude  Number of Ends 2019  Percentage of Total Ends 2019  \n",
       "63              -73.977706                 8046                          10.36  \n",
       "240             -73.989551                 6603                           8.50  \n",
       "121             -73.990093                 6345                           8.17  \n",
       "209             -73.994685                 6339                           8.16  \n",
       "267             -73.994156                 5764                           7.42  "
      ]
     },
     "execution_count": 105,
     "metadata": {},
     "output_type": "execute_result"
    }
   ],
   "source": [
    "complete_end_stations_2019_df = pd.merge(end_coordinates_2019_df, end_stations_2019_df, how = \"left\", on = [\"Station Name\"])\n",
    "complete_end_stations_2019_df = complete_end_stations_2019_df.sort_values(by = \"Number of Ends 2019\", ascending = False)\n",
    "complete_end_stations_2019_df.head()"
   ]
  },
  {
   "cell_type": "markdown",
   "metadata": {},
   "source": [
    "## Determine Start and End Stations count/percentages in 2018 and 2019"
   ]
  },
  {
   "cell_type": "code",
   "execution_count": 106,
   "metadata": {},
   "outputs": [
    {
     "data": {
      "text/plain": [
       "458"
      ]
     },
     "execution_count": 106,
     "metadata": {},
     "output_type": "execute_result"
    }
   ],
   "source": [
    "# Confirm how many 2018 start stations there are\n",
    "total_start_stations_2018 = start_stations_2018_df[\"Station Name\"].nunique()\n",
    "total_start_stations_2018"
   ]
  },
  {
   "cell_type": "code",
   "execution_count": 107,
   "metadata": {},
   "outputs": [
    {
     "data": {
      "text/plain": [
       "769"
      ]
     },
     "execution_count": 107,
     "metadata": {},
     "output_type": "execute_result"
    }
   ],
   "source": [
    "# Confirm how many 2018 end stations there are\n",
    "total_end_stations_2018 = end_stations_2018_df[\"Station Name\"].nunique()\n",
    "total_end_stations_2018"
   ]
  },
  {
   "cell_type": "code",
   "execution_count": 108,
   "metadata": {},
   "outputs": [
    {
     "data": {
      "text/plain": [
       "769"
      ]
     },
     "execution_count": 108,
     "metadata": {},
     "output_type": "execute_result"
    }
   ],
   "source": [
    "# Confirm how many 2019 start stations there are\n",
    "total_start_stations_2019 = start_stations_2019_df[\"Station Name\"].nunique()\n",
    "total_start_stations_2019"
   ]
  },
  {
   "cell_type": "code",
   "execution_count": 109,
   "metadata": {},
   "outputs": [
    {
     "data": {
      "text/plain": [
       "777"
      ]
     },
     "execution_count": 109,
     "metadata": {},
     "output_type": "execute_result"
    }
   ],
   "source": [
    "# Confirm how many 2019 end stations there are\n",
    "total_end_stations_2019 = end_stations_2019_df[\"Station Name\"].nunique()\n",
    "total_end_stations_2019"
   ]
  },
  {
   "cell_type": "code",
   "execution_count": 110,
   "metadata": {},
   "outputs": [
    {
     "data": {
      "text/plain": [
       "40.44"
      ]
     },
     "execution_count": 110,
     "metadata": {},
     "output_type": "execute_result"
    }
   ],
   "source": [
    "start_station_growth_percent = round((total_start_stations_2019 - total_start_stations_2018)/(total_start_stations_2019)*100, 2)\n",
    "start_station_growth_percent"
   ]
  },
  {
   "cell_type": "code",
   "execution_count": 111,
   "metadata": {},
   "outputs": [
    {
     "data": {
      "text/plain": [
       "1.03"
      ]
     },
     "execution_count": 111,
     "metadata": {},
     "output_type": "execute_result"
    }
   ],
   "source": [
    "end_station_growth_percent = round((total_end_stations_2019 - total_end_stations_2018)/(total_end_stations_2019)*100, 2)\n",
    "end_station_growth_percent"
   ]
  },
  {
   "cell_type": "markdown",
   "metadata": {},
   "source": [
    "## Merge 2018 Start and End Dataframes"
   ]
  },
  {
   "cell_type": "code",
   "execution_count": 112,
   "metadata": {},
   "outputs": [
    {
     "data": {
      "text/plain": [
       "(769, 11)"
      ]
     },
     "execution_count": 112,
     "metadata": {},
     "output_type": "execute_result"
    }
   ],
   "source": [
    "complete_2018_stations_df = pd.merge(complete_start_stations_2018_df, complete_end_stations_2018_df, how = \"right\",\n",
    "                                    on = [\"Station Name\"])\n",
    "\n",
    "# Confirm the total amount of rows equals the total number of end stations\n",
    "complete_2018_stations_df.shape"
   ]
  },
  {
   "cell_type": "code",
   "execution_count": 113,
   "metadata": {},
   "outputs": [
    {
     "data": {
      "text/html": [
       "<div>\n",
       "<style scoped>\n",
       "    .dataframe tbody tr th:only-of-type {\n",
       "        vertical-align: middle;\n",
       "    }\n",
       "\n",
       "    .dataframe tbody tr th {\n",
       "        vertical-align: top;\n",
       "    }\n",
       "\n",
       "    .dataframe thead th {\n",
       "        text-align: right;\n",
       "    }\n",
       "</style>\n",
       "<table border=\"1\" class=\"dataframe\">\n",
       "  <thead>\n",
       "    <tr style=\"text-align: right;\">\n",
       "      <th></th>\n",
       "      <th>start station id</th>\n",
       "      <th>Station Name</th>\n",
       "      <th>start station latitude</th>\n",
       "      <th>start station longitude</th>\n",
       "      <th>Number of Starts 2018</th>\n",
       "      <th>Percentage of Total Starts 2018</th>\n",
       "      <th>end station id</th>\n",
       "      <th>end station latitude</th>\n",
       "      <th>end station longitude</th>\n",
       "      <th>Number of Ends 2018</th>\n",
       "      <th>Percentage of Total Ends 2018</th>\n",
       "    </tr>\n",
       "  </thead>\n",
       "  <tbody>\n",
       "    <tr>\n",
       "      <th>0</th>\n",
       "      <td>519.0</td>\n",
       "      <td>Pershing Square North</td>\n",
       "      <td>40.751873</td>\n",
       "      <td>-73.977706</td>\n",
       "      <td>12026.0</td>\n",
       "      <td>26.26</td>\n",
       "      <td>519</td>\n",
       "      <td>40.751873</td>\n",
       "      <td>-73.977706</td>\n",
       "      <td>10637</td>\n",
       "      <td>13.83</td>\n",
       "    </tr>\n",
       "    <tr>\n",
       "      <th>1</th>\n",
       "      <td>497.0</td>\n",
       "      <td>E 17 St &amp; Broadway</td>\n",
       "      <td>40.737050</td>\n",
       "      <td>-73.990093</td>\n",
       "      <td>8765.0</td>\n",
       "      <td>19.14</td>\n",
       "      <td>497</td>\n",
       "      <td>40.737050</td>\n",
       "      <td>-73.990093</td>\n",
       "      <td>8105</td>\n",
       "      <td>10.54</td>\n",
       "    </tr>\n",
       "    <tr>\n",
       "      <th>2</th>\n",
       "      <td>402.0</td>\n",
       "      <td>Broadway &amp; E 22 St</td>\n",
       "      <td>40.740343</td>\n",
       "      <td>-73.989551</td>\n",
       "      <td>8747.0</td>\n",
       "      <td>19.10</td>\n",
       "      <td>402</td>\n",
       "      <td>40.740343</td>\n",
       "      <td>-73.989551</td>\n",
       "      <td>7930</td>\n",
       "      <td>10.31</td>\n",
       "    </tr>\n",
       "    <tr>\n",
       "      <th>3</th>\n",
       "      <td>435.0</td>\n",
       "      <td>W 21 St &amp; 6 Ave</td>\n",
       "      <td>40.741740</td>\n",
       "      <td>-73.994156</td>\n",
       "      <td>8269.0</td>\n",
       "      <td>18.05</td>\n",
       "      <td>435</td>\n",
       "      <td>40.741740</td>\n",
       "      <td>-73.994156</td>\n",
       "      <td>7718</td>\n",
       "      <td>10.04</td>\n",
       "    </tr>\n",
       "    <tr>\n",
       "      <th>4</th>\n",
       "      <td>3255.0</td>\n",
       "      <td>8 Ave &amp; W 31 St</td>\n",
       "      <td>40.750585</td>\n",
       "      <td>-73.994685</td>\n",
       "      <td>7257.0</td>\n",
       "      <td>15.84</td>\n",
       "      <td>3255</td>\n",
       "      <td>40.750585</td>\n",
       "      <td>-73.994685</td>\n",
       "      <td>6395</td>\n",
       "      <td>8.32</td>\n",
       "    </tr>\n",
       "  </tbody>\n",
       "</table>\n",
       "</div>"
      ],
      "text/plain": [
       "   start station id           Station Name  start station latitude  \\\n",
       "0             519.0  Pershing Square North               40.751873   \n",
       "1             497.0     E 17 St & Broadway               40.737050   \n",
       "2             402.0     Broadway & E 22 St               40.740343   \n",
       "3             435.0        W 21 St & 6 Ave               40.741740   \n",
       "4            3255.0        8 Ave & W 31 St               40.750585   \n",
       "\n",
       "   start station longitude  Number of Starts 2018  \\\n",
       "0               -73.977706                12026.0   \n",
       "1               -73.990093                 8765.0   \n",
       "2               -73.989551                 8747.0   \n",
       "3               -73.994156                 8269.0   \n",
       "4               -73.994685                 7257.0   \n",
       "\n",
       "   Percentage of Total Starts 2018  end station id  end station latitude  \\\n",
       "0                            26.26             519             40.751873   \n",
       "1                            19.14             497             40.737050   \n",
       "2                            19.10             402             40.740343   \n",
       "3                            18.05             435             40.741740   \n",
       "4                            15.84            3255             40.750585   \n",
       "\n",
       "   end station longitude  Number of Ends 2018  Percentage of Total Ends 2018  \n",
       "0             -73.977706                10637                          13.83  \n",
       "1             -73.990093                 8105                          10.54  \n",
       "2             -73.989551                 7930                          10.31  \n",
       "3             -73.994156                 7718                          10.04  \n",
       "4             -73.994685                 6395                           8.32  "
      ]
     },
     "execution_count": 113,
     "metadata": {},
     "output_type": "execute_result"
    }
   ],
   "source": [
    "complete_2018_stations_df.head()"
   ]
  },
  {
   "cell_type": "markdown",
   "metadata": {},
   "source": [
    "## Merge 2019 Start and End Dataframes"
   ]
  },
  {
   "cell_type": "code",
   "execution_count": 114,
   "metadata": {},
   "outputs": [
    {
     "data": {
      "text/plain": [
       "(777, 11)"
      ]
     },
     "execution_count": 114,
     "metadata": {},
     "output_type": "execute_result"
    }
   ],
   "source": [
    "complete_2019_stations_df = pd.merge(complete_start_stations_2019_df, complete_end_stations_2019_df, how = \"right\",\n",
    "                                    on = [\"Station Name\"])\n",
    "\n",
    "# Confirm the total amount of rows equals the total number of end stations\n",
    "complete_2019_stations_df.shape"
   ]
  },
  {
   "cell_type": "code",
   "execution_count": 115,
   "metadata": {},
   "outputs": [
    {
     "data": {
      "text/html": [
       "<div>\n",
       "<style scoped>\n",
       "    .dataframe tbody tr th:only-of-type {\n",
       "        vertical-align: middle;\n",
       "    }\n",
       "\n",
       "    .dataframe tbody tr th {\n",
       "        vertical-align: top;\n",
       "    }\n",
       "\n",
       "    .dataframe thead th {\n",
       "        text-align: right;\n",
       "    }\n",
       "</style>\n",
       "<table border=\"1\" class=\"dataframe\">\n",
       "  <thead>\n",
       "    <tr style=\"text-align: right;\">\n",
       "      <th></th>\n",
       "      <th>start station id</th>\n",
       "      <th>Station Name</th>\n",
       "      <th>start station latitude</th>\n",
       "      <th>start station longitude</th>\n",
       "      <th>Number of Starts 2019</th>\n",
       "      <th>Percentage of Total Starts 2019</th>\n",
       "      <th>end station id</th>\n",
       "      <th>end station latitude</th>\n",
       "      <th>end station longitude</th>\n",
       "      <th>Number of Ends 2019</th>\n",
       "      <th>Percentage of Total Ends 2019</th>\n",
       "    </tr>\n",
       "  </thead>\n",
       "  <tbody>\n",
       "    <tr>\n",
       "      <th>0</th>\n",
       "      <td>519.0</td>\n",
       "      <td>Pershing Square North</td>\n",
       "      <td>40.751873</td>\n",
       "      <td>-73.977706</td>\n",
       "      <td>8091.0</td>\n",
       "      <td>10.52</td>\n",
       "      <td>519</td>\n",
       "      <td>40.751873</td>\n",
       "      <td>-73.977706</td>\n",
       "      <td>8046</td>\n",
       "      <td>10.36</td>\n",
       "    </tr>\n",
       "    <tr>\n",
       "      <th>1</th>\n",
       "      <td>3255.0</td>\n",
       "      <td>8 Ave &amp; W 31 St</td>\n",
       "      <td>40.750585</td>\n",
       "      <td>-73.994685</td>\n",
       "      <td>6482.0</td>\n",
       "      <td>8.43</td>\n",
       "      <td>3255</td>\n",
       "      <td>40.750585</td>\n",
       "      <td>-73.994685</td>\n",
       "      <td>6339</td>\n",
       "      <td>8.16</td>\n",
       "    </tr>\n",
       "    <tr>\n",
       "      <th>2</th>\n",
       "      <td>402.0</td>\n",
       "      <td>Broadway &amp; E 22 St</td>\n",
       "      <td>40.740343</td>\n",
       "      <td>-73.989551</td>\n",
       "      <td>6281.0</td>\n",
       "      <td>8.17</td>\n",
       "      <td>402</td>\n",
       "      <td>40.740343</td>\n",
       "      <td>-73.989551</td>\n",
       "      <td>6603</td>\n",
       "      <td>8.50</td>\n",
       "    </tr>\n",
       "    <tr>\n",
       "      <th>3</th>\n",
       "      <td>497.0</td>\n",
       "      <td>E 17 St &amp; Broadway</td>\n",
       "      <td>40.737050</td>\n",
       "      <td>-73.990093</td>\n",
       "      <td>6202.0</td>\n",
       "      <td>8.07</td>\n",
       "      <td>497</td>\n",
       "      <td>40.737050</td>\n",
       "      <td>-73.990093</td>\n",
       "      <td>6345</td>\n",
       "      <td>8.17</td>\n",
       "    </tr>\n",
       "    <tr>\n",
       "      <th>4</th>\n",
       "      <td>435.0</td>\n",
       "      <td>W 21 St &amp; 6 Ave</td>\n",
       "      <td>40.741740</td>\n",
       "      <td>-73.994156</td>\n",
       "      <td>5746.0</td>\n",
       "      <td>7.47</td>\n",
       "      <td>435</td>\n",
       "      <td>40.741740</td>\n",
       "      <td>-73.994156</td>\n",
       "      <td>5764</td>\n",
       "      <td>7.42</td>\n",
       "    </tr>\n",
       "  </tbody>\n",
       "</table>\n",
       "</div>"
      ],
      "text/plain": [
       "   start station id           Station Name  start station latitude  \\\n",
       "0             519.0  Pershing Square North               40.751873   \n",
       "1            3255.0        8 Ave & W 31 St               40.750585   \n",
       "2             402.0     Broadway & E 22 St               40.740343   \n",
       "3             497.0     E 17 St & Broadway               40.737050   \n",
       "4             435.0        W 21 St & 6 Ave               40.741740   \n",
       "\n",
       "   start station longitude  Number of Starts 2019  \\\n",
       "0               -73.977706                 8091.0   \n",
       "1               -73.994685                 6482.0   \n",
       "2               -73.989551                 6281.0   \n",
       "3               -73.990093                 6202.0   \n",
       "4               -73.994156                 5746.0   \n",
       "\n",
       "   Percentage of Total Starts 2019  end station id  end station latitude  \\\n",
       "0                            10.52             519             40.751873   \n",
       "1                             8.43            3255             40.750585   \n",
       "2                             8.17             402             40.740343   \n",
       "3                             8.07             497             40.737050   \n",
       "4                             7.47             435             40.741740   \n",
       "\n",
       "   end station longitude  Number of Ends 2019  Percentage of Total Ends 2019  \n",
       "0             -73.977706                 8046                          10.36  \n",
       "1             -73.994685                 6339                           8.16  \n",
       "2             -73.989551                 6603                           8.50  \n",
       "3             -73.990093                 6345                           8.17  \n",
       "4             -73.994156                 5764                           7.42  "
      ]
     },
     "execution_count": 115,
     "metadata": {},
     "output_type": "execute_result"
    }
   ],
   "source": [
    "complete_2019_stations_df.head()"
   ]
  },
  {
   "cell_type": "markdown",
   "metadata": {},
   "source": [
    "## Calculate Number of Bikes and Percentage of Growth"
   ]
  },
  {
   "cell_type": "code",
   "execution_count": 116,
   "metadata": {},
   "outputs": [
    {
     "data": {
      "text/plain": [
       "11886"
      ]
     },
     "execution_count": 116,
     "metadata": {},
     "output_type": "execute_result"
    }
   ],
   "source": [
    "total_bikes_2018 = april_2018_df[\"bikeid\"].nunique()\n",
    "total_bikes_2018"
   ]
  },
  {
   "cell_type": "code",
   "execution_count": 117,
   "metadata": {},
   "outputs": [
    {
     "data": {
      "text/plain": [
       "14171"
      ]
     },
     "execution_count": 117,
     "metadata": {},
     "output_type": "execute_result"
    }
   ],
   "source": [
    "total_bikes_2019 = april_2019_df[\"bikeid\"].nunique()\n",
    "total_bikes_2019"
   ]
  },
  {
   "cell_type": "code",
   "execution_count": 118,
   "metadata": {},
   "outputs": [
    {
     "data": {
      "text/plain": [
       "16.12"
      ]
     },
     "execution_count": 118,
     "metadata": {},
     "output_type": "execute_result"
    }
   ],
   "source": [
    "bike_growth_percent = round((total_bikes_2019 - total_bikes_2018)/(total_bikes_2019)*100, 2)\n",
    "bike_growth_percent"
   ]
  },
  {
   "cell_type": "markdown",
   "metadata": {},
   "source": [
    "## Calculate Length of Trips in 2018 vs. 2019"
   ]
  },
  {
   "cell_type": "code",
   "execution_count": 119,
   "metadata": {},
   "outputs": [
    {
     "data": {
      "text/plain": [
       "15.7"
      ]
     },
     "execution_count": 119,
     "metadata": {},
     "output_type": "execute_result"
    }
   ],
   "source": [
    "average_trip_length_2018 = april_2018_df[\"tripduration\"].sum()/april_2018_df[\"tripduration\"].count()\n",
    "average_trip_length_2018_minutes = round(average_trip_length_2018/60, 2)\n",
    "average_trip_length_2018_minutes"
   ]
  },
  {
   "cell_type": "code",
   "execution_count": 120,
   "metadata": {},
   "outputs": [
    {
     "data": {
      "text/plain": [
       "18.44"
      ]
     },
     "execution_count": 120,
     "metadata": {},
     "output_type": "execute_result"
    }
   ],
   "source": [
    "average_trip_length_2019 = april_2019_df[\"tripduration\"].sum()/april_2019_df[\"tripduration\"].count()\n",
    "average_trip_length_2019_minutes = round(average_trip_length_2019/60, 2)\n",
    "average_trip_length_2019_minutes"
   ]
  },
  {
   "cell_type": "code",
   "execution_count": 121,
   "metadata": {},
   "outputs": [
    {
     "data": {
      "text/plain": [
       "14.86"
      ]
     },
     "execution_count": 121,
     "metadata": {},
     "output_type": "execute_result"
    }
   ],
   "source": [
    "trip_length_percentage_growth = round((average_trip_length_2019_minutes - average_trip_length_2018_minutes)/(average_trip_length_2019_minutes)*100,2)\n",
    "trip_length_percentage_growth"
   ]
  },
  {
   "cell_type": "markdown",
   "metadata": {},
   "source": [
    "## Calculate Amount of Customers vs. Subscribers in 2018"
   ]
  },
  {
   "cell_type": "markdown",
   "metadata": {},
   "source": [
    "Customer = 24-hour pass or 3-day pass user; Subscriber = Annual Member"
   ]
  },
  {
   "cell_type": "code",
   "execution_count": 122,
   "metadata": {},
   "outputs": [
    {
     "data": {
      "text/plain": [
       "119235"
      ]
     },
     "execution_count": 122,
     "metadata": {},
     "output_type": "execute_result"
    }
   ],
   "source": [
    "total_customers_2018 = april_2018_df.loc[april_2018_df[\"usertype\"] == \"Customer\"].count()\n",
    "total_customers_2018 = total_customers_2018[\"usertype\"]\n",
    "total_customers_2018"
   ]
  },
  {
   "cell_type": "code",
   "execution_count": 123,
   "metadata": {},
   "outputs": [
    {
     "data": {
      "text/plain": [
       "929340"
      ]
     },
     "execution_count": 123,
     "metadata": {},
     "output_type": "execute_result"
    }
   ],
   "source": [
    "total_subscribers_2018 = april_2018_df.loc[april_2018_df[\"usertype\"] == \"Subscriber\"].count()\n",
    "total_subscribers_2018 = total_subscribers_2018[\"usertype\"]\n",
    "total_subscribers_2018"
   ]
  },
  {
   "cell_type": "code",
   "execution_count": 124,
   "metadata": {},
   "outputs": [
    {
     "data": {
      "text/plain": [
       "1048575"
      ]
     },
     "execution_count": 124,
     "metadata": {},
     "output_type": "execute_result"
    }
   ],
   "source": [
    "total_riders_2018 = total_customers_2018 + total_subscribers_2018\n",
    "total_riders_2018"
   ]
  },
  {
   "cell_type": "code",
   "execution_count": 125,
   "metadata": {},
   "outputs": [
    {
     "data": {
      "text/plain": [
       "11.37"
      ]
     },
     "execution_count": 125,
     "metadata": {},
     "output_type": "execute_result"
    }
   ],
   "source": [
    "percentage_total_customers_2018 = round(total_customers_2018/total_riders_2018 *100, 2)\n",
    "percentage_total_customers_2018"
   ]
  },
  {
   "cell_type": "code",
   "execution_count": 126,
   "metadata": {},
   "outputs": [
    {
     "data": {
      "text/plain": [
       "88.63"
      ]
     },
     "execution_count": 126,
     "metadata": {},
     "output_type": "execute_result"
    }
   ],
   "source": [
    "percentage_total_subscribers_2018 = round(total_subscribers_2018/total_riders_2018 *100, 2)\n",
    "percentage_total_subscribers_2018"
   ]
  },
  {
   "cell_type": "markdown",
   "metadata": {},
   "source": [
    "## Calculate Amount of Customers vs. Subscribers in 2019"
   ]
  },
  {
   "cell_type": "code",
   "execution_count": 127,
   "metadata": {},
   "outputs": [
    {
     "data": {
      "text/plain": [
       "120056"
      ]
     },
     "execution_count": 127,
     "metadata": {},
     "output_type": "execute_result"
    }
   ],
   "source": [
    "total_customers_2019 = april_2019_df.loc[april_2019_df[\"usertype\"] == \"Customer\"].count()\n",
    "total_customers_2019 = total_customers_2019[\"usertype\"]\n",
    "total_customers_2019"
   ]
  },
  {
   "cell_type": "code",
   "execution_count": 128,
   "metadata": {},
   "outputs": [
    {
     "data": {
      "text/plain": [
       "928519"
      ]
     },
     "execution_count": 128,
     "metadata": {},
     "output_type": "execute_result"
    }
   ],
   "source": [
    "total_subscribers_2019 = april_2019_df.loc[april_2019_df[\"usertype\"] == \"Subscriber\"].count()\n",
    "total_subscribers_2019 = total_subscribers_2019[\"usertype\"]\n",
    "total_subscribers_2019"
   ]
  },
  {
   "cell_type": "code",
   "execution_count": 129,
   "metadata": {},
   "outputs": [
    {
     "data": {
      "text/plain": [
       "1048575"
      ]
     },
     "execution_count": 129,
     "metadata": {},
     "output_type": "execute_result"
    }
   ],
   "source": [
    "total_riders_2019 = total_customers_2019 + total_subscribers_2019\n",
    "total_riders_2019"
   ]
  },
  {
   "cell_type": "code",
   "execution_count": 130,
   "metadata": {},
   "outputs": [
    {
     "data": {
      "text/plain": [
       "11.45"
      ]
     },
     "execution_count": 130,
     "metadata": {},
     "output_type": "execute_result"
    }
   ],
   "source": [
    "percentage_total_customers_2019 = round(total_customers_2019/total_riders_2019 *100, 2)\n",
    "percentage_total_customers_2019"
   ]
  },
  {
   "cell_type": "code",
   "execution_count": 131,
   "metadata": {},
   "outputs": [
    {
     "data": {
      "text/plain": [
       "88.55"
      ]
     },
     "execution_count": 131,
     "metadata": {},
     "output_type": "execute_result"
    }
   ],
   "source": [
    "percentage_total_subscribers_2019 = round(total_subscribers_2019/total_riders_2019 *100, 2)\n",
    "percentage_total_subscribers_2019"
   ]
  },
  {
   "cell_type": "markdown",
   "metadata": {},
   "source": [
    "## Export Data to CSV"
   ]
  },
  {
   "cell_type": "code",
   "execution_count": 132,
   "metadata": {},
   "outputs": [],
   "source": [
    "complete_2018_stations_df.to_csv(r'Exported Clean Data/CompleteStations2018.csv', index = None, header=True)\n",
    "complete_2019_stations_df.to_csv(r'Exported Clean Data/CompleteStations2019.csv', index = None, header=True)"
   ]
  }
 ],
 "metadata": {
  "kernelspec": {
   "display_name": "Python 3",
   "language": "python",
   "name": "python3"
  },
  "language_info": {
   "codemirror_mode": {
    "name": "ipython",
    "version": 3
   },
   "file_extension": ".py",
   "mimetype": "text/x-python",
   "name": "python",
   "nbconvert_exporter": "python",
   "pygments_lexer": "ipython3",
   "version": "3.7.3"
  }
 },
 "nbformat": 4,
 "nbformat_minor": 2
}
