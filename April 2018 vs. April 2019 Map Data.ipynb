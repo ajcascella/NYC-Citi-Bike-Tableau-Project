{
 "cells": [
  {
   "cell_type": "markdown",
   "metadata": {},
   "source": [
    "# April 2018 vs. April 2019 Map Data"
   ]
  },
  {
   "cell_type": "markdown",
   "metadata": {},
   "source": [
    "Both April 2018 and April 2019 Datasets include the following information: \n",
    "\n",
    "Trip Duration (seconds), \n",
    "Start Time and Date, \n",
    "Stop Time and Date, \n",
    "Start Station Name, \n",
    "End Station Name, \n",
    "Station ID, \n",
    "Station Lat/Long, \n",
    "Bike ID, \n",
    "User Type (Customer = 24-hour pass or 3-day pass user; Subscriber = Annual Member), \n",
    "Gender (Zero=unknown; 1=male; 2=female), \n",
    "Year of Birth"
   ]
  },
  {
   "cell_type": "code",
   "execution_count": 1,
   "metadata": {},
   "outputs": [],
   "source": [
    "# Import dependencies\n",
    "import pandas as pd\n",
    "import numpy as np\n",
    "import datetime as dt"
   ]
  },
  {
   "cell_type": "code",
   "execution_count": 2,
   "metadata": {},
   "outputs": [],
   "source": [
    "# Import April 2018 & April 2019 data\n",
    "april_2018_csv = (\"Resources/JC-201904-citibike-tripdata.csv\")\n",
    "april_2019_csv = (\"Resources/JC-201804-citibike-tripdata.csv\")"
   ]
  },
  {
   "cell_type": "code",
   "execution_count": 3,
   "metadata": {},
   "outputs": [],
   "source": [
    "# Convert to dataframes\n",
    "april_2018_df = pd.read_csv(april_2018_csv)\n",
    "april_2019_df = pd.read_csv(april_2019_csv)"
   ]
  },
  {
   "cell_type": "code",
   "execution_count": 4,
   "metadata": {},
   "outputs": [
    {
     "data": {
      "text/plain": [
       "tripduration               33056\n",
       "starttime                  33056\n",
       "stoptime                   33056\n",
       "start station id           33056\n",
       "start station name         33056\n",
       "start station latitude     33056\n",
       "start station longitude    33056\n",
       "end station id             33056\n",
       "end station name           33056\n",
       "end station latitude       33056\n",
       "end station longitude      33056\n",
       "bikeid                     33056\n",
       "usertype                   33056\n",
       "birth year                 33056\n",
       "gender                     33056\n",
       "dtype: int64"
      ]
     },
     "execution_count": 4,
     "metadata": {},
     "output_type": "execute_result"
    }
   ],
   "source": [
    "# Confirm no null values\n",
    "april_2018_df.count()"
   ]
  },
  {
   "cell_type": "code",
   "execution_count": 5,
   "metadata": {},
   "outputs": [
    {
     "data": {
      "text/plain": [
       "tripduration               23634\n",
       "starttime                  23634\n",
       "stoptime                   23634\n",
       "start station id           23634\n",
       "start station name         23634\n",
       "start station latitude     23634\n",
       "start station longitude    23634\n",
       "end station id             23634\n",
       "end station name           23634\n",
       "end station latitude       23634\n",
       "end station longitude      23634\n",
       "bikeid                     23634\n",
       "usertype                   23634\n",
       "birth year                 23634\n",
       "gender                     23634\n",
       "dtype: int64"
      ]
     },
     "execution_count": 5,
     "metadata": {},
     "output_type": "execute_result"
    }
   ],
   "source": [
    "# Confirm no null values\n",
    "april_2019_df.count()"
   ]
  },
  {
   "cell_type": "code",
   "execution_count": 6,
   "metadata": {},
   "outputs": [
    {
     "data": {
      "text/html": [
       "<div>\n",
       "<style scoped>\n",
       "    .dataframe tbody tr th:only-of-type {\n",
       "        vertical-align: middle;\n",
       "    }\n",
       "\n",
       "    .dataframe tbody tr th {\n",
       "        vertical-align: top;\n",
       "    }\n",
       "\n",
       "    .dataframe thead th {\n",
       "        text-align: right;\n",
       "    }\n",
       "</style>\n",
       "<table border=\"1\" class=\"dataframe\">\n",
       "  <thead>\n",
       "    <tr style=\"text-align: right;\">\n",
       "      <th></th>\n",
       "      <th>tripduration</th>\n",
       "      <th>start station id</th>\n",
       "      <th>start station latitude</th>\n",
       "      <th>start station longitude</th>\n",
       "      <th>end station id</th>\n",
       "      <th>end station latitude</th>\n",
       "      <th>end station longitude</th>\n",
       "      <th>bikeid</th>\n",
       "      <th>birth year</th>\n",
       "      <th>gender</th>\n",
       "    </tr>\n",
       "  </thead>\n",
       "  <tbody>\n",
       "    <tr>\n",
       "      <th>count</th>\n",
       "      <td>3.305600e+04</td>\n",
       "      <td>33056.000000</td>\n",
       "      <td>33056.000000</td>\n",
       "      <td>33056.000000</td>\n",
       "      <td>33056.000000</td>\n",
       "      <td>33056.000000</td>\n",
       "      <td>33056.000000</td>\n",
       "      <td>33056.000000</td>\n",
       "      <td>33056.000000</td>\n",
       "      <td>33056.000000</td>\n",
       "    </tr>\n",
       "    <tr>\n",
       "      <th>mean</th>\n",
       "      <td>7.139957e+02</td>\n",
       "      <td>3277.874667</td>\n",
       "      <td>40.722867</td>\n",
       "      <td>-74.046403</td>\n",
       "      <td>3271.563166</td>\n",
       "      <td>40.722414</td>\n",
       "      <td>-74.045908</td>\n",
       "      <td>28477.660576</td>\n",
       "      <td>1980.998064</td>\n",
       "      <td>1.148233</td>\n",
       "    </tr>\n",
       "    <tr>\n",
       "      <th>std</th>\n",
       "      <td>7.526086e+03</td>\n",
       "      <td>151.301819</td>\n",
       "      <td>0.007244</td>\n",
       "      <td>0.010870</td>\n",
       "      <td>157.574110</td>\n",
       "      <td>0.007081</td>\n",
       "      <td>0.010910</td>\n",
       "      <td>1530.401023</td>\n",
       "      <td>10.207287</td>\n",
       "      <td>0.503074</td>\n",
       "    </tr>\n",
       "    <tr>\n",
       "      <th>min</th>\n",
       "      <td>6.100000e+01</td>\n",
       "      <td>3183.000000</td>\n",
       "      <td>40.709651</td>\n",
       "      <td>-74.083639</td>\n",
       "      <td>224.000000</td>\n",
       "      <td>40.709651</td>\n",
       "      <td>-74.083639</td>\n",
       "      <td>20543.000000</td>\n",
       "      <td>1888.000000</td>\n",
       "      <td>0.000000</td>\n",
       "    </tr>\n",
       "    <tr>\n",
       "      <th>25%</th>\n",
       "      <td>2.240000e+02</td>\n",
       "      <td>3192.000000</td>\n",
       "      <td>40.718355</td>\n",
       "      <td>-74.050656</td>\n",
       "      <td>3187.000000</td>\n",
       "      <td>40.717733</td>\n",
       "      <td>-74.050389</td>\n",
       "      <td>26288.000000</td>\n",
       "      <td>1975.000000</td>\n",
       "      <td>1.000000</td>\n",
       "    </tr>\n",
       "    <tr>\n",
       "      <th>50%</th>\n",
       "      <td>3.320000e+02</td>\n",
       "      <td>3207.000000</td>\n",
       "      <td>40.721525</td>\n",
       "      <td>-74.043845</td>\n",
       "      <td>3205.000000</td>\n",
       "      <td>40.721124</td>\n",
       "      <td>-74.043117</td>\n",
       "      <td>29285.000000</td>\n",
       "      <td>1984.000000</td>\n",
       "      <td>1.000000</td>\n",
       "    </tr>\n",
       "    <tr>\n",
       "      <th>75%</th>\n",
       "      <td>5.580000e+02</td>\n",
       "      <td>3275.000000</td>\n",
       "      <td>40.727224</td>\n",
       "      <td>-74.038051</td>\n",
       "      <td>3273.000000</td>\n",
       "      <td>40.727224</td>\n",
       "      <td>-74.038051</td>\n",
       "      <td>29540.000000</td>\n",
       "      <td>1989.000000</td>\n",
       "      <td>1.000000</td>\n",
       "    </tr>\n",
       "    <tr>\n",
       "      <th>max</th>\n",
       "      <td>1.047271e+06</td>\n",
       "      <td>3694.000000</td>\n",
       "      <td>40.748716</td>\n",
       "      <td>-74.032108</td>\n",
       "      <td>3694.000000</td>\n",
       "      <td>40.813358</td>\n",
       "      <td>-73.956461</td>\n",
       "      <td>37987.000000</td>\n",
       "      <td>2003.000000</td>\n",
       "      <td>2.000000</td>\n",
       "    </tr>\n",
       "  </tbody>\n",
       "</table>\n",
       "</div>"
      ],
      "text/plain": [
       "       tripduration  start station id  start station latitude  \\\n",
       "count  3.305600e+04      33056.000000            33056.000000   \n",
       "mean   7.139957e+02       3277.874667               40.722867   \n",
       "std    7.526086e+03        151.301819                0.007244   \n",
       "min    6.100000e+01       3183.000000               40.709651   \n",
       "25%    2.240000e+02       3192.000000               40.718355   \n",
       "50%    3.320000e+02       3207.000000               40.721525   \n",
       "75%    5.580000e+02       3275.000000               40.727224   \n",
       "max    1.047271e+06       3694.000000               40.748716   \n",
       "\n",
       "       start station longitude  end station id  end station latitude  \\\n",
       "count             33056.000000    33056.000000          33056.000000   \n",
       "mean                -74.046403     3271.563166             40.722414   \n",
       "std                   0.010870      157.574110              0.007081   \n",
       "min                 -74.083639      224.000000             40.709651   \n",
       "25%                 -74.050656     3187.000000             40.717733   \n",
       "50%                 -74.043845     3205.000000             40.721124   \n",
       "75%                 -74.038051     3273.000000             40.727224   \n",
       "max                 -74.032108     3694.000000             40.813358   \n",
       "\n",
       "       end station longitude        bikeid    birth year        gender  \n",
       "count           33056.000000  33056.000000  33056.000000  33056.000000  \n",
       "mean              -74.045908  28477.660576   1980.998064      1.148233  \n",
       "std                 0.010910   1530.401023     10.207287      0.503074  \n",
       "min               -74.083639  20543.000000   1888.000000      0.000000  \n",
       "25%               -74.050389  26288.000000   1975.000000      1.000000  \n",
       "50%               -74.043117  29285.000000   1984.000000      1.000000  \n",
       "75%               -74.038051  29540.000000   1989.000000      1.000000  \n",
       "max               -73.956461  37987.000000   2003.000000      2.000000  "
      ]
     },
     "execution_count": 6,
     "metadata": {},
     "output_type": "execute_result"
    }
   ],
   "source": [
    "# Describe 2018 data\n",
    "april_2018_df.describe()"
   ]
  },
  {
   "cell_type": "code",
   "execution_count": 7,
   "metadata": {},
   "outputs": [
    {
     "data": {
      "text/html": [
       "<div>\n",
       "<style scoped>\n",
       "    .dataframe tbody tr th:only-of-type {\n",
       "        vertical-align: middle;\n",
       "    }\n",
       "\n",
       "    .dataframe tbody tr th {\n",
       "        vertical-align: top;\n",
       "    }\n",
       "\n",
       "    .dataframe thead th {\n",
       "        text-align: right;\n",
       "    }\n",
       "</style>\n",
       "<table border=\"1\" class=\"dataframe\">\n",
       "  <thead>\n",
       "    <tr style=\"text-align: right;\">\n",
       "      <th></th>\n",
       "      <th>tripduration</th>\n",
       "      <th>start station id</th>\n",
       "      <th>start station latitude</th>\n",
       "      <th>start station longitude</th>\n",
       "      <th>end station id</th>\n",
       "      <th>end station latitude</th>\n",
       "      <th>end station longitude</th>\n",
       "      <th>bikeid</th>\n",
       "      <th>birth year</th>\n",
       "      <th>gender</th>\n",
       "    </tr>\n",
       "  </thead>\n",
       "  <tbody>\n",
       "    <tr>\n",
       "      <th>count</th>\n",
       "      <td>23634.000000</td>\n",
       "      <td>23634.000000</td>\n",
       "      <td>23634.000000</td>\n",
       "      <td>23634.000000</td>\n",
       "      <td>23634.000000</td>\n",
       "      <td>23634.000000</td>\n",
       "      <td>23634.000000</td>\n",
       "      <td>23634.000000</td>\n",
       "      <td>23634.000000</td>\n",
       "      <td>23634.000000</td>\n",
       "    </tr>\n",
       "    <tr>\n",
       "      <th>mean</th>\n",
       "      <td>669.285098</td>\n",
       "      <td>3249.767411</td>\n",
       "      <td>40.722664</td>\n",
       "      <td>-74.045977</td>\n",
       "      <td>3245.752137</td>\n",
       "      <td>40.722290</td>\n",
       "      <td>-74.045539</td>\n",
       "      <td>29487.990268</td>\n",
       "      <td>1979.570915</td>\n",
       "      <td>1.130109</td>\n",
       "    </tr>\n",
       "    <tr>\n",
       "      <th>std</th>\n",
       "      <td>5017.255520</td>\n",
       "      <td>119.369448</td>\n",
       "      <td>0.007265</td>\n",
       "      <td>0.010689</td>\n",
       "      <td>123.465209</td>\n",
       "      <td>0.007094</td>\n",
       "      <td>0.010702</td>\n",
       "      <td>2754.829750</td>\n",
       "      <td>10.261424</td>\n",
       "      <td>0.504996</td>\n",
       "    </tr>\n",
       "    <tr>\n",
       "      <th>min</th>\n",
       "      <td>61.000000</td>\n",
       "      <td>3183.000000</td>\n",
       "      <td>40.692640</td>\n",
       "      <td>-74.096937</td>\n",
       "      <td>327.000000</td>\n",
       "      <td>40.679331</td>\n",
       "      <td>-74.096937</td>\n",
       "      <td>15271.000000</td>\n",
       "      <td>1888.000000</td>\n",
       "      <td>0.000000</td>\n",
       "    </tr>\n",
       "    <tr>\n",
       "      <th>25%</th>\n",
       "      <td>221.000000</td>\n",
       "      <td>3187.000000</td>\n",
       "      <td>40.718211</td>\n",
       "      <td>-74.050389</td>\n",
       "      <td>3186.000000</td>\n",
       "      <td>40.717733</td>\n",
       "      <td>-74.049968</td>\n",
       "      <td>26279.250000</td>\n",
       "      <td>1972.000000</td>\n",
       "      <td>1.000000</td>\n",
       "    </tr>\n",
       "    <tr>\n",
       "      <th>50%</th>\n",
       "      <td>326.000000</td>\n",
       "      <td>3203.000000</td>\n",
       "      <td>40.721525</td>\n",
       "      <td>-74.043845</td>\n",
       "      <td>3203.000000</td>\n",
       "      <td>40.721124</td>\n",
       "      <td>-74.043117</td>\n",
       "      <td>29524.000000</td>\n",
       "      <td>1982.000000</td>\n",
       "      <td>1.000000</td>\n",
       "    </tr>\n",
       "    <tr>\n",
       "      <th>75%</th>\n",
       "      <td>548.000000</td>\n",
       "      <td>3269.000000</td>\n",
       "      <td>40.727224</td>\n",
       "      <td>-74.038051</td>\n",
       "      <td>3269.000000</td>\n",
       "      <td>40.727224</td>\n",
       "      <td>-74.038051</td>\n",
       "      <td>31811.000000</td>\n",
       "      <td>1988.000000</td>\n",
       "      <td>1.000000</td>\n",
       "    </tr>\n",
       "    <tr>\n",
       "      <th>max</th>\n",
       "      <td>571578.000000</td>\n",
       "      <td>3681.000000</td>\n",
       "      <td>40.748716</td>\n",
       "      <td>-74.032108</td>\n",
       "      <td>3681.000000</td>\n",
       "      <td>40.760875</td>\n",
       "      <td>-73.975195</td>\n",
       "      <td>33670.000000</td>\n",
       "      <td>2002.000000</td>\n",
       "      <td>2.000000</td>\n",
       "    </tr>\n",
       "  </tbody>\n",
       "</table>\n",
       "</div>"
      ],
      "text/plain": [
       "        tripduration  start station id  start station latitude  \\\n",
       "count   23634.000000      23634.000000            23634.000000   \n",
       "mean      669.285098       3249.767411               40.722664   \n",
       "std      5017.255520        119.369448                0.007265   \n",
       "min        61.000000       3183.000000               40.692640   \n",
       "25%       221.000000       3187.000000               40.718211   \n",
       "50%       326.000000       3203.000000               40.721525   \n",
       "75%       548.000000       3269.000000               40.727224   \n",
       "max    571578.000000       3681.000000               40.748716   \n",
       "\n",
       "       start station longitude  end station id  end station latitude  \\\n",
       "count             23634.000000    23634.000000          23634.000000   \n",
       "mean                -74.045977     3245.752137             40.722290   \n",
       "std                   0.010689      123.465209              0.007094   \n",
       "min                 -74.096937      327.000000             40.679331   \n",
       "25%                 -74.050389     3186.000000             40.717733   \n",
       "50%                 -74.043845     3203.000000             40.721124   \n",
       "75%                 -74.038051     3269.000000             40.727224   \n",
       "max                 -74.032108     3681.000000             40.760875   \n",
       "\n",
       "       end station longitude        bikeid    birth year        gender  \n",
       "count           23634.000000  23634.000000  23634.000000  23634.000000  \n",
       "mean              -74.045539  29487.990268   1979.570915      1.130109  \n",
       "std                 0.010702   2754.829750     10.261424      0.504996  \n",
       "min               -74.096937  15271.000000   1888.000000      0.000000  \n",
       "25%               -74.049968  26279.250000   1972.000000      1.000000  \n",
       "50%               -74.043117  29524.000000   1982.000000      1.000000  \n",
       "75%               -74.038051  31811.000000   1988.000000      1.000000  \n",
       "max               -73.975195  33670.000000   2002.000000      2.000000  "
      ]
     },
     "execution_count": 7,
     "metadata": {},
     "output_type": "execute_result"
    }
   ],
   "source": [
    "# Describe 2019 data\n",
    "april_2019_df.describe()"
   ]
  },
  {
   "cell_type": "code",
   "execution_count": 8,
   "metadata": {},
   "outputs": [
    {
     "data": {
      "text/plain": [
       "tripduration                 int64\n",
       "starttime                   object\n",
       "stoptime                    object\n",
       "start station id             int64\n",
       "start station name          object\n",
       "start station latitude     float64\n",
       "start station longitude    float64\n",
       "end station id               int64\n",
       "end station name            object\n",
       "end station latitude       float64\n",
       "end station longitude      float64\n",
       "bikeid                       int64\n",
       "usertype                    object\n",
       "birth year                   int64\n",
       "gender                       int64\n",
       "dtype: object"
      ]
     },
     "execution_count": 8,
     "metadata": {},
     "output_type": "execute_result"
    }
   ],
   "source": [
    "# Get datatypes for 2018 dataframe\n",
    "april_2018_df.dtypes"
   ]
  },
  {
   "cell_type": "code",
   "execution_count": 9,
   "metadata": {},
   "outputs": [
    {
     "data": {
      "text/plain": [
       "tripduration                 int64\n",
       "starttime                   object\n",
       "stoptime                    object\n",
       "start station id             int64\n",
       "start station name          object\n",
       "start station latitude     float64\n",
       "start station longitude    float64\n",
       "end station id               int64\n",
       "end station name            object\n",
       "end station latitude       float64\n",
       "end station longitude      float64\n",
       "bikeid                       int64\n",
       "usertype                    object\n",
       "birth year                   int64\n",
       "gender                       int64\n",
       "dtype: object"
      ]
     },
     "execution_count": 9,
     "metadata": {},
     "output_type": "execute_result"
    }
   ],
   "source": [
    "# Get datatypes for 2019 dataframe\n",
    "april_2019_df.dtypes"
   ]
  },
  {
   "cell_type": "markdown",
   "metadata": {},
   "source": [
    "## Create 2018 Start Stations Dataframe"
   ]
  },
  {
   "cell_type": "code",
   "execution_count": 10,
   "metadata": {},
   "outputs": [],
   "source": [
    "# Create Start Stations 2018 dataframe\n",
    "start_stations_2018_df = april_2018_df[[\"start station id\", \"start station name\"]].copy()\n",
    "\n",
    "# Organize and calculate total number of starts for each unique station\n",
    "start_stations_2018_df = start_stations_2018_df.groupby(\"start station name\").count()\n",
    "start_stations_2018_df = start_stations_2018_df.sort_values(by = \"start station id\", ascending = False)\n",
    "\n",
    "# Rename column Number of Starts column and reset index\n",
    "start_stations_2018_df = start_stations_2018_df.rename(columns = {\"start station id\": \"Number of Starts 2018\"})\n",
    "start_stations_2018_df = start_stations_2018_df.reset_index()"
   ]
  },
  {
   "cell_type": "code",
   "execution_count": 11,
   "metadata": {},
   "outputs": [
    {
     "data": {
      "text/html": [
       "<div>\n",
       "<style scoped>\n",
       "    .dataframe tbody tr th:only-of-type {\n",
       "        vertical-align: middle;\n",
       "    }\n",
       "\n",
       "    .dataframe tbody tr th {\n",
       "        vertical-align: top;\n",
       "    }\n",
       "\n",
       "    .dataframe thead th {\n",
       "        text-align: right;\n",
       "    }\n",
       "</style>\n",
       "<table border=\"1\" class=\"dataframe\">\n",
       "  <thead>\n",
       "    <tr style=\"text-align: right;\">\n",
       "      <th></th>\n",
       "      <th>Station Name</th>\n",
       "      <th>Number of Starts 2018</th>\n",
       "      <th>Percentage of Total Starts 2018</th>\n",
       "    </tr>\n",
       "  </thead>\n",
       "  <tbody>\n",
       "    <tr>\n",
       "      <th>0</th>\n",
       "      <td>Grove St PATH</td>\n",
       "      <td>3728</td>\n",
       "      <td>73.10</td>\n",
       "    </tr>\n",
       "    <tr>\n",
       "      <th>1</th>\n",
       "      <td>Hamilton Park</td>\n",
       "      <td>1754</td>\n",
       "      <td>34.39</td>\n",
       "    </tr>\n",
       "    <tr>\n",
       "      <th>2</th>\n",
       "      <td>Exchange Place</td>\n",
       "      <td>1571</td>\n",
       "      <td>30.80</td>\n",
       "    </tr>\n",
       "    <tr>\n",
       "      <th>3</th>\n",
       "      <td>Sip Ave</td>\n",
       "      <td>1509</td>\n",
       "      <td>29.59</td>\n",
       "    </tr>\n",
       "    <tr>\n",
       "      <th>4</th>\n",
       "      <td>Newport PATH</td>\n",
       "      <td>1458</td>\n",
       "      <td>28.59</td>\n",
       "    </tr>\n",
       "  </tbody>\n",
       "</table>\n",
       "</div>"
      ],
      "text/plain": [
       "     Station Name  Number of Starts 2018  Percentage of Total Starts 2018\n",
       "0   Grove St PATH                   3728                            73.10\n",
       "1   Hamilton Park                   1754                            34.39\n",
       "2  Exchange Place                   1571                            30.80\n",
       "3         Sip Ave                   1509                            29.59\n",
       "4    Newport PATH                   1458                            28.59"
      ]
     },
     "execution_count": 11,
     "metadata": {},
     "output_type": "execute_result"
    }
   ],
   "source": [
    "# Rename Station column\n",
    "start_stations_2018_df = start_stations_2018_df.rename(columns = {\"start station name\": \"Station Name\"})\n",
    "\n",
    "# Calculate Percentage of Total Starts 2018\n",
    "start_stations_2018_df[\"Percentage of Total Starts 2018\"] = round(start_stations_2018_df[\"Number of Starts 2018\"]/start_stations_2018_df[\"Station Name\"].count(),2)\n",
    "\n",
    "start_stations_2018_df.head()"
   ]
  },
  {
   "cell_type": "markdown",
   "metadata": {},
   "source": [
    "## Create 2019 Start Station Dataframe"
   ]
  },
  {
   "cell_type": "code",
   "execution_count": 12,
   "metadata": {},
   "outputs": [],
   "source": [
    "# Create Start Stations 2019 dataframe\n",
    "start_stations_2019_df = april_2019_df[[\"start station id\", \"start station name\"]].copy()\n",
    "\n",
    "# Organize and calculate total number of starts for each unique station\n",
    "start_stations_2019_df = start_stations_2019_df.groupby(\"start station name\").count()\n",
    "start_stations_2019_df = start_stations_2019_df.sort_values(by = \"start station id\", ascending = False)\n",
    "\n",
    "# Rename column Number of Starts column and reset index\n",
    "start_stations_2019_df = start_stations_2019_df.rename(columns = {\"start station id\": \"Number of Starts 2019\"})\n",
    "start_stations_2019_df = start_stations_2019_df.reset_index()"
   ]
  },
  {
   "cell_type": "code",
   "execution_count": 13,
   "metadata": {},
   "outputs": [
    {
     "data": {
      "text/html": [
       "<div>\n",
       "<style scoped>\n",
       "    .dataframe tbody tr th:only-of-type {\n",
       "        vertical-align: middle;\n",
       "    }\n",
       "\n",
       "    .dataframe tbody tr th {\n",
       "        vertical-align: top;\n",
       "    }\n",
       "\n",
       "    .dataframe thead th {\n",
       "        text-align: right;\n",
       "    }\n",
       "</style>\n",
       "<table border=\"1\" class=\"dataframe\">\n",
       "  <thead>\n",
       "    <tr style=\"text-align: right;\">\n",
       "      <th></th>\n",
       "      <th>Station Name</th>\n",
       "      <th>Number of Starts 2019</th>\n",
       "      <th>Percentage of Total Starts 2019</th>\n",
       "    </tr>\n",
       "  </thead>\n",
       "  <tbody>\n",
       "    <tr>\n",
       "      <th>0</th>\n",
       "      <td>Grove St PATH</td>\n",
       "      <td>2876</td>\n",
       "      <td>49.59</td>\n",
       "    </tr>\n",
       "    <tr>\n",
       "      <th>1</th>\n",
       "      <td>Hamilton Park</td>\n",
       "      <td>1424</td>\n",
       "      <td>24.55</td>\n",
       "    </tr>\n",
       "    <tr>\n",
       "      <th>2</th>\n",
       "      <td>Exchange Place</td>\n",
       "      <td>1276</td>\n",
       "      <td>22.00</td>\n",
       "    </tr>\n",
       "    <tr>\n",
       "      <th>3</th>\n",
       "      <td>Sip Ave</td>\n",
       "      <td>1235</td>\n",
       "      <td>21.29</td>\n",
       "    </tr>\n",
       "    <tr>\n",
       "      <th>4</th>\n",
       "      <td>Newport PATH</td>\n",
       "      <td>1116</td>\n",
       "      <td>19.24</td>\n",
       "    </tr>\n",
       "  </tbody>\n",
       "</table>\n",
       "</div>"
      ],
      "text/plain": [
       "     Station Name  Number of Starts 2019  Percentage of Total Starts 2019\n",
       "0   Grove St PATH                   2876                            49.59\n",
       "1   Hamilton Park                   1424                            24.55\n",
       "2  Exchange Place                   1276                            22.00\n",
       "3         Sip Ave                   1235                            21.29\n",
       "4    Newport PATH                   1116                            19.24"
      ]
     },
     "execution_count": 13,
     "metadata": {},
     "output_type": "execute_result"
    }
   ],
   "source": [
    "# Rename Station column\n",
    "start_stations_2019_df = start_stations_2019_df.rename(columns = {\"start station name\": \"Station Name\"})\n",
    "\n",
    "# Calculate Percentage of Total Starts 2019\n",
    "start_stations_2019_df[\"Percentage of Total Starts 2019\"] = round(start_stations_2019_df[\"Number of Starts 2019\"]/start_stations_2019_df[\"Station Name\"].count(),2)\n",
    "\n",
    "start_stations_2019_df.head()"
   ]
  },
  {
   "cell_type": "markdown",
   "metadata": {},
   "source": [
    "## Create 2018 End Stations Dataframe"
   ]
  },
  {
   "cell_type": "code",
   "execution_count": 14,
   "metadata": {},
   "outputs": [],
   "source": [
    "# Create End Stations 2018 dataframe\n",
    "end_stations_2018_df = april_2018_df[[\"end station id\", \"end station name\"]].copy()\n",
    "\n",
    "# Organize and calculate total number of etarts for each unique station\n",
    "end_stations_2018_df = end_stations_2018_df.groupby(\"end station name\").count()\n",
    "end_stations_2018_df = end_stations_2018_df.sort_values(by = \"end station id\", ascending = False)\n",
    "\n",
    "# Rename column Number of Ends column and reset index\n",
    "end_stations_2018_df = end_stations_2018_df.rename(columns = {\"end station id\": \"Number of Ends 2018\"})\n",
    "end_stations_2018_df = end_stations_2018_df.reset_index()"
   ]
  },
  {
   "cell_type": "code",
   "execution_count": 15,
   "metadata": {},
   "outputs": [
    {
     "data": {
      "text/html": [
       "<div>\n",
       "<style scoped>\n",
       "    .dataframe tbody tr th:only-of-type {\n",
       "        vertical-align: middle;\n",
       "    }\n",
       "\n",
       "    .dataframe tbody tr th {\n",
       "        vertical-align: top;\n",
       "    }\n",
       "\n",
       "    .dataframe thead th {\n",
       "        text-align: right;\n",
       "    }\n",
       "</style>\n",
       "<table border=\"1\" class=\"dataframe\">\n",
       "  <thead>\n",
       "    <tr style=\"text-align: right;\">\n",
       "      <th></th>\n",
       "      <th>Station Name</th>\n",
       "      <th>Number of Ends 2018</th>\n",
       "      <th>Percentage of Total Ends 2018</th>\n",
       "    </tr>\n",
       "  </thead>\n",
       "  <tbody>\n",
       "    <tr>\n",
       "      <th>0</th>\n",
       "      <td>Grove St PATH</td>\n",
       "      <td>4577</td>\n",
       "      <td>73.82</td>\n",
       "    </tr>\n",
       "    <tr>\n",
       "      <th>1</th>\n",
       "      <td>Exchange Place</td>\n",
       "      <td>2006</td>\n",
       "      <td>32.35</td>\n",
       "    </tr>\n",
       "    <tr>\n",
       "      <th>2</th>\n",
       "      <td>Hamilton Park</td>\n",
       "      <td>1663</td>\n",
       "      <td>26.82</td>\n",
       "    </tr>\n",
       "    <tr>\n",
       "      <th>3</th>\n",
       "      <td>Sip Ave</td>\n",
       "      <td>1435</td>\n",
       "      <td>23.15</td>\n",
       "    </tr>\n",
       "    <tr>\n",
       "      <th>4</th>\n",
       "      <td>Harborside</td>\n",
       "      <td>1381</td>\n",
       "      <td>22.27</td>\n",
       "    </tr>\n",
       "  </tbody>\n",
       "</table>\n",
       "</div>"
      ],
      "text/plain": [
       "     Station Name  Number of Ends 2018  Percentage of Total Ends 2018\n",
       "0   Grove St PATH                 4577                          73.82\n",
       "1  Exchange Place                 2006                          32.35\n",
       "2   Hamilton Park                 1663                          26.82\n",
       "3         Sip Ave                 1435                          23.15\n",
       "4      Harborside                 1381                          22.27"
      ]
     },
     "execution_count": 15,
     "metadata": {},
     "output_type": "execute_result"
    }
   ],
   "source": [
    "# Rename Station column\n",
    "end_stations_2018_df = end_stations_2018_df.rename(columns = {\"end station name\": \"Station Name\"})\n",
    "\n",
    "# Calculate Percentage of Total Ends 2018\n",
    "end_stations_2018_df[\"Percentage of Total Ends 2018\"] = round(end_stations_2018_df[\"Number of Ends 2018\"]/end_stations_2018_df[\"Station Name\"].count(),2)\n",
    "end_stations_2018_df.head()"
   ]
  },
  {
   "cell_type": "code",
   "execution_count": 16,
   "metadata": {},
   "outputs": [],
   "source": [
    "# Create End Stations 2019 dataframe\n",
    "end_stations_2019_df = april_2019_df[[\"end station id\", \"end station name\"]].copy()\n",
    "\n",
    "# Organize and calculate total number of etarts for each unique station\n",
    "end_stations_2019_df = end_stations_2019_df.groupby(\"end station name\").count()\n",
    "end_stations_2019_df = end_stations_2019_df.sort_values(by = \"end station id\", ascending = False)\n",
    "\n",
    "# Rename column Number of Ends column and reset index\n",
    "end_stations_2019_df = end_stations_2019_df.rename(columns = {\"end station id\": \"Number of Ends 2019\"})\n",
    "end_stations_2019_df = end_stations_2019_df.reset_index()"
   ]
  },
  {
   "cell_type": "code",
   "execution_count": 17,
   "metadata": {},
   "outputs": [
    {
     "data": {
      "text/html": [
       "<div>\n",
       "<style scoped>\n",
       "    .dataframe tbody tr th:only-of-type {\n",
       "        vertical-align: middle;\n",
       "    }\n",
       "\n",
       "    .dataframe tbody tr th {\n",
       "        vertical-align: top;\n",
       "    }\n",
       "\n",
       "    .dataframe thead th {\n",
       "        text-align: right;\n",
       "    }\n",
       "</style>\n",
       "<table border=\"1\" class=\"dataframe\">\n",
       "  <thead>\n",
       "    <tr style=\"text-align: right;\">\n",
       "      <th></th>\n",
       "      <th>Station Name</th>\n",
       "      <th>Number of Ends 2019</th>\n",
       "      <th>Percentage of Total Ends 2019</th>\n",
       "    </tr>\n",
       "  </thead>\n",
       "  <tbody>\n",
       "    <tr>\n",
       "      <th>0</th>\n",
       "      <td>Grove St PATH</td>\n",
       "      <td>3389</td>\n",
       "      <td>52.95</td>\n",
       "    </tr>\n",
       "    <tr>\n",
       "      <th>1</th>\n",
       "      <td>Exchange Place</td>\n",
       "      <td>1484</td>\n",
       "      <td>23.19</td>\n",
       "    </tr>\n",
       "    <tr>\n",
       "      <th>2</th>\n",
       "      <td>Hamilton Park</td>\n",
       "      <td>1438</td>\n",
       "      <td>22.47</td>\n",
       "    </tr>\n",
       "    <tr>\n",
       "      <th>3</th>\n",
       "      <td>Sip Ave</td>\n",
       "      <td>1108</td>\n",
       "      <td>17.31</td>\n",
       "    </tr>\n",
       "    <tr>\n",
       "      <th>4</th>\n",
       "      <td>Newport PATH</td>\n",
       "      <td>1098</td>\n",
       "      <td>17.16</td>\n",
       "    </tr>\n",
       "  </tbody>\n",
       "</table>\n",
       "</div>"
      ],
      "text/plain": [
       "     Station Name  Number of Ends 2019  Percentage of Total Ends 2019\n",
       "0   Grove St PATH                 3389                          52.95\n",
       "1  Exchange Place                 1484                          23.19\n",
       "2   Hamilton Park                 1438                          22.47\n",
       "3         Sip Ave                 1108                          17.31\n",
       "4    Newport PATH                 1098                          17.16"
      ]
     },
     "execution_count": 17,
     "metadata": {},
     "output_type": "execute_result"
    }
   ],
   "source": [
    "# Rename Station column\n",
    "end_stations_2019_df = end_stations_2019_df.rename(columns = {\"end station name\": \"Station Name\"})\n",
    "\n",
    "# Calculate Percentage of Total Ends 2019\n",
    "end_stations_2019_df[\"Percentage of Total Ends 2019\"] = round(end_stations_2019_df[\"Number of Ends 2019\"]/end_stations_2019_df[\"Station Name\"].count(),2)\n",
    "end_stations_2019_df.head()"
   ]
  },
  {
   "cell_type": "markdown",
   "metadata": {},
   "source": [
    "## Determine Start and End Stations count/percentages in 2018 and 2019"
   ]
  },
  {
   "cell_type": "code",
   "execution_count": 18,
   "metadata": {},
   "outputs": [
    {
     "data": {
      "text/plain": [
       "51"
      ]
     },
     "execution_count": 18,
     "metadata": {},
     "output_type": "execute_result"
    }
   ],
   "source": [
    "# Confirm how many 2018 start stations there are\n",
    "total_start_stations_2018 = start_stations_2018_df[\"Station Name\"].nunique()\n",
    "total_start_stations_2018"
   ]
  },
  {
   "cell_type": "code",
   "execution_count": 19,
   "metadata": {},
   "outputs": [
    {
     "data": {
      "text/plain": [
       "62"
      ]
     },
     "execution_count": 19,
     "metadata": {},
     "output_type": "execute_result"
    }
   ],
   "source": [
    "# Confirm how many 2018 end stations there are\n",
    "total_end_stations_2018 = end_stations_2018_df[\"Station Name\"].nunique()\n",
    "total_end_stations_2018"
   ]
  },
  {
   "cell_type": "code",
   "execution_count": 20,
   "metadata": {},
   "outputs": [
    {
     "data": {
      "text/plain": [
       "58"
      ]
     },
     "execution_count": 20,
     "metadata": {},
     "output_type": "execute_result"
    }
   ],
   "source": [
    "# Confirm how many 2019 start stations there are\n",
    "total_start_stations_2019 = start_stations_2019_df[\"Station Name\"].nunique()\n",
    "total_start_stations_2019"
   ]
  },
  {
   "cell_type": "code",
   "execution_count": 21,
   "metadata": {},
   "outputs": [
    {
     "data": {
      "text/plain": [
       "64"
      ]
     },
     "execution_count": 21,
     "metadata": {},
     "output_type": "execute_result"
    }
   ],
   "source": [
    "# Confirm how many 2019 end stations there are\n",
    "total_end_stations_2019 = end_stations_2019_df[\"Station Name\"].nunique()\n",
    "total_end_stations_2019"
   ]
  },
  {
   "cell_type": "code",
   "execution_count": 22,
   "metadata": {},
   "outputs": [
    {
     "data": {
      "text/plain": [
       "12.07"
      ]
     },
     "execution_count": 22,
     "metadata": {},
     "output_type": "execute_result"
    }
   ],
   "source": [
    "start_station_growth_percent = round((total_start_stations_2019 - total_start_stations_2018)/(total_start_stations_2019)*100, 2)\n",
    "start_station_growth_percent"
   ]
  },
  {
   "cell_type": "code",
   "execution_count": 23,
   "metadata": {},
   "outputs": [
    {
     "data": {
      "text/plain": [
       "3.12"
      ]
     },
     "execution_count": 23,
     "metadata": {},
     "output_type": "execute_result"
    }
   ],
   "source": [
    "end_station_growth_percent = round((total_end_stations_2019 - total_end_stations_2018)/(total_end_stations_2019)*100, 2)\n",
    "end_station_growth_percent"
   ]
  },
  {
   "cell_type": "markdown",
   "metadata": {},
   "source": [
    "## Merge 2018 Start and End Dataframes"
   ]
  },
  {
   "cell_type": "code",
   "execution_count": 24,
   "metadata": {},
   "outputs": [
    {
     "data": {
      "text/plain": [
       "(62, 5)"
      ]
     },
     "execution_count": 24,
     "metadata": {},
     "output_type": "execute_result"
    }
   ],
   "source": [
    "complete_2018_stations_df = pd.merge(start_stations_2018_df, end_stations_2018_df, how = \"right\",\n",
    "                                    on = [\"Station Name\"])\n",
    "\n",
    "# Confirm the total amount of rows equals the total number of end stations\n",
    "complete_2018_stations_df.shape"
   ]
  },
  {
   "cell_type": "code",
   "execution_count": 25,
   "metadata": {},
   "outputs": [
    {
     "data": {
      "text/html": [
       "<div>\n",
       "<style scoped>\n",
       "    .dataframe tbody tr th:only-of-type {\n",
       "        vertical-align: middle;\n",
       "    }\n",
       "\n",
       "    .dataframe tbody tr th {\n",
       "        vertical-align: top;\n",
       "    }\n",
       "\n",
       "    .dataframe thead th {\n",
       "        text-align: right;\n",
       "    }\n",
       "</style>\n",
       "<table border=\"1\" class=\"dataframe\">\n",
       "  <thead>\n",
       "    <tr style=\"text-align: right;\">\n",
       "      <th></th>\n",
       "      <th>Station Name</th>\n",
       "      <th>Number of Starts 2018</th>\n",
       "      <th>Percentage of Total Starts 2018</th>\n",
       "      <th>Number of Ends 2018</th>\n",
       "      <th>Percentage of Total Ends 2018</th>\n",
       "    </tr>\n",
       "  </thead>\n",
       "  <tbody>\n",
       "    <tr>\n",
       "      <th>0</th>\n",
       "      <td>Grove St PATH</td>\n",
       "      <td>3728.0</td>\n",
       "      <td>73.10</td>\n",
       "      <td>4577</td>\n",
       "      <td>73.82</td>\n",
       "    </tr>\n",
       "    <tr>\n",
       "      <th>1</th>\n",
       "      <td>Hamilton Park</td>\n",
       "      <td>1754.0</td>\n",
       "      <td>34.39</td>\n",
       "      <td>1663</td>\n",
       "      <td>26.82</td>\n",
       "    </tr>\n",
       "    <tr>\n",
       "      <th>2</th>\n",
       "      <td>Exchange Place</td>\n",
       "      <td>1571.0</td>\n",
       "      <td>30.80</td>\n",
       "      <td>2006</td>\n",
       "      <td>32.35</td>\n",
       "    </tr>\n",
       "    <tr>\n",
       "      <th>3</th>\n",
       "      <td>Sip Ave</td>\n",
       "      <td>1509.0</td>\n",
       "      <td>29.59</td>\n",
       "      <td>1435</td>\n",
       "      <td>23.15</td>\n",
       "    </tr>\n",
       "    <tr>\n",
       "      <th>4</th>\n",
       "      <td>Newport PATH</td>\n",
       "      <td>1458.0</td>\n",
       "      <td>28.59</td>\n",
       "      <td>1334</td>\n",
       "      <td>21.52</td>\n",
       "    </tr>\n",
       "  </tbody>\n",
       "</table>\n",
       "</div>"
      ],
      "text/plain": [
       "     Station Name  Number of Starts 2018  Percentage of Total Starts 2018  \\\n",
       "0   Grove St PATH                 3728.0                            73.10   \n",
       "1   Hamilton Park                 1754.0                            34.39   \n",
       "2  Exchange Place                 1571.0                            30.80   \n",
       "3         Sip Ave                 1509.0                            29.59   \n",
       "4    Newport PATH                 1458.0                            28.59   \n",
       "\n",
       "   Number of Ends 2018  Percentage of Total Ends 2018  \n",
       "0                 4577                          73.82  \n",
       "1                 1663                          26.82  \n",
       "2                 2006                          32.35  \n",
       "3                 1435                          23.15  \n",
       "4                 1334                          21.52  "
      ]
     },
     "execution_count": 25,
     "metadata": {},
     "output_type": "execute_result"
    }
   ],
   "source": [
    "complete_2018_stations_df.head()"
   ]
  },
  {
   "cell_type": "markdown",
   "metadata": {},
   "source": [
    "## Merge 2019 Start and End Dataframes"
   ]
  },
  {
   "cell_type": "code",
   "execution_count": 26,
   "metadata": {},
   "outputs": [
    {
     "data": {
      "text/plain": [
       "(64, 5)"
      ]
     },
     "execution_count": 26,
     "metadata": {},
     "output_type": "execute_result"
    }
   ],
   "source": [
    "complete_2019_stations_df = pd.merge(start_stations_2019_df, end_stations_2019_df, how = \"right\",\n",
    "                                    on = [\"Station Name\"])\n",
    "\n",
    "# Confirm the total amount of rows equals the total number of end stations\n",
    "complete_2019_stations_df.shape"
   ]
  },
  {
   "cell_type": "code",
   "execution_count": 27,
   "metadata": {},
   "outputs": [
    {
     "data": {
      "text/html": [
       "<div>\n",
       "<style scoped>\n",
       "    .dataframe tbody tr th:only-of-type {\n",
       "        vertical-align: middle;\n",
       "    }\n",
       "\n",
       "    .dataframe tbody tr th {\n",
       "        vertical-align: top;\n",
       "    }\n",
       "\n",
       "    .dataframe thead th {\n",
       "        text-align: right;\n",
       "    }\n",
       "</style>\n",
       "<table border=\"1\" class=\"dataframe\">\n",
       "  <thead>\n",
       "    <tr style=\"text-align: right;\">\n",
       "      <th></th>\n",
       "      <th>Station Name</th>\n",
       "      <th>Number of Starts 2019</th>\n",
       "      <th>Percentage of Total Starts 2019</th>\n",
       "      <th>Number of Ends 2019</th>\n",
       "      <th>Percentage of Total Ends 2019</th>\n",
       "    </tr>\n",
       "  </thead>\n",
       "  <tbody>\n",
       "    <tr>\n",
       "      <th>0</th>\n",
       "      <td>Grove St PATH</td>\n",
       "      <td>2876.0</td>\n",
       "      <td>49.59</td>\n",
       "      <td>3389</td>\n",
       "      <td>52.95</td>\n",
       "    </tr>\n",
       "    <tr>\n",
       "      <th>1</th>\n",
       "      <td>Hamilton Park</td>\n",
       "      <td>1424.0</td>\n",
       "      <td>24.55</td>\n",
       "      <td>1438</td>\n",
       "      <td>22.47</td>\n",
       "    </tr>\n",
       "    <tr>\n",
       "      <th>2</th>\n",
       "      <td>Exchange Place</td>\n",
       "      <td>1276.0</td>\n",
       "      <td>22.00</td>\n",
       "      <td>1484</td>\n",
       "      <td>23.19</td>\n",
       "    </tr>\n",
       "    <tr>\n",
       "      <th>3</th>\n",
       "      <td>Sip Ave</td>\n",
       "      <td>1235.0</td>\n",
       "      <td>21.29</td>\n",
       "      <td>1108</td>\n",
       "      <td>17.31</td>\n",
       "    </tr>\n",
       "    <tr>\n",
       "      <th>4</th>\n",
       "      <td>Newport PATH</td>\n",
       "      <td>1116.0</td>\n",
       "      <td>19.24</td>\n",
       "      <td>1098</td>\n",
       "      <td>17.16</td>\n",
       "    </tr>\n",
       "  </tbody>\n",
       "</table>\n",
       "</div>"
      ],
      "text/plain": [
       "     Station Name  Number of Starts 2019  Percentage of Total Starts 2019  \\\n",
       "0   Grove St PATH                 2876.0                            49.59   \n",
       "1   Hamilton Park                 1424.0                            24.55   \n",
       "2  Exchange Place                 1276.0                            22.00   \n",
       "3         Sip Ave                 1235.0                            21.29   \n",
       "4    Newport PATH                 1116.0                            19.24   \n",
       "\n",
       "   Number of Ends 2019  Percentage of Total Ends 2019  \n",
       "0                 3389                          52.95  \n",
       "1                 1438                          22.47  \n",
       "2                 1484                          23.19  \n",
       "3                 1108                          17.31  \n",
       "4                 1098                          17.16  "
      ]
     },
     "execution_count": 27,
     "metadata": {},
     "output_type": "execute_result"
    }
   ],
   "source": [
    "complete_2019_stations_df.head()"
   ]
  },
  {
   "cell_type": "markdown",
   "metadata": {},
   "source": [
    "## Calculate Number of Bikes and Percentage of Growth"
   ]
  },
  {
   "cell_type": "code",
   "execution_count": 28,
   "metadata": {},
   "outputs": [
    {
     "data": {
      "text/plain": [
       "493"
      ]
     },
     "execution_count": 28,
     "metadata": {},
     "output_type": "execute_result"
    }
   ],
   "source": [
    "total_bikes_2018 = april_2018_df[\"bikeid\"].nunique()\n",
    "total_bikes_2018"
   ]
  },
  {
   "cell_type": "code",
   "execution_count": 29,
   "metadata": {},
   "outputs": [
    {
     "data": {
      "text/plain": [
       "554"
      ]
     },
     "execution_count": 29,
     "metadata": {},
     "output_type": "execute_result"
    }
   ],
   "source": [
    "total_bikes_2019 = april_2019_df[\"bikeid\"].nunique()\n",
    "total_bikes_2019"
   ]
  },
  {
   "cell_type": "code",
   "execution_count": 30,
   "metadata": {},
   "outputs": [
    {
     "data": {
      "text/plain": [
       "11.01"
      ]
     },
     "execution_count": 30,
     "metadata": {},
     "output_type": "execute_result"
    }
   ],
   "source": [
    "bike_growth_percent = round((total_bikes_2019 - total_bikes_2018)/(total_bikes_2019)*100, 2)\n",
    "bike_growth_percent"
   ]
  },
  {
   "cell_type": "markdown",
   "metadata": {},
   "source": [
    "## Calculate Total Number of Trips in 2018 vs. 2019"
   ]
  },
  {
   "cell_type": "code",
   "execution_count": 34,
   "metadata": {},
   "outputs": [
    {
     "data": {
      "text/plain": [
       "33056"
      ]
     },
     "execution_count": 34,
     "metadata": {},
     "output_type": "execute_result"
    }
   ],
   "source": [
    "total_trips_2018 = april_2018_df[\"tripduration\"].count()\n",
    "total_trips_2018"
   ]
  },
  {
   "cell_type": "code",
   "execution_count": 35,
   "metadata": {},
   "outputs": [
    {
     "data": {
      "text/plain": [
       "23634"
      ]
     },
     "execution_count": 35,
     "metadata": {},
     "output_type": "execute_result"
    }
   ],
   "source": [
    "total_trips_2019 = april_2019_df[\"tripduration\"].count()\n",
    "total_trips_2019"
   ]
  },
  {
   "cell_type": "code",
   "execution_count": 37,
   "metadata": {},
   "outputs": [
    {
     "data": {
      "text/plain": [
       "-39.87"
      ]
     },
     "execution_count": 37,
     "metadata": {},
     "output_type": "execute_result"
    }
   ],
   "source": [
    "trip_growth_percentage = round((total_trips_2019 - total_trips_2018)/(total_trips_2019)*100,2)\n",
    "trip_growth_percentage"
   ]
  },
  {
   "cell_type": "markdown",
   "metadata": {},
   "source": [
    "## Calculate Length of Trips in 2018 vs. 2019"
   ]
  },
  {
   "cell_type": "code",
   "execution_count": 40,
   "metadata": {},
   "outputs": [
    {
     "data": {
      "text/plain": [
       "713.9956740077445"
      ]
     },
     "execution_count": 40,
     "metadata": {},
     "output_type": "execute_result"
    }
   ],
   "source": [
    "average_trip_length_2018 = april_2018_df[\"tripduration\"].sum()/total_trips_2018\n",
    "average_trip_length_2018"
   ]
  },
  {
   "cell_type": "markdown",
   "metadata": {},
   "source": [
    "## Change Column Names"
   ]
  },
  {
   "cell_type": "code",
   "execution_count": null,
   "metadata": {},
   "outputs": [],
   "source": [
    "# Print column names\n",
    "list(april_2018_df.columns.values) \n",
    "\n",
    "# Create list of new column names\n",
    "new_column_names = [\"Trip Duration in Seconds\", \n",
    "                    \"Start Time\",\n",
    "                   \"Stop Time\",\n",
    "                   \"Start Station ID\",\n",
    "                    \"Start Station Name\",\n",
    "                   \"Start Station Latitude\",\n",
    "                   \"Start Station Longitude\",\n",
    "                    \"Stop Station ID\",\n",
    "                    \"Stop Station Name\",\n",
    "                   \"Stop Station Latitude\",\n",
    "                   \"Stop Station Longitude\",\n",
    "                    \"Bike ID\",\n",
    "                    \"User Type\",\n",
    "                    \"Birth Year\",\n",
    "                    \"Gender\"]\n",
    "# Set both dataframes with new column names\n",
    "april_2018_df.columns= [new_column_names]\n",
    "april_2019_df.columns= [new_column_names]"
   ]
  }
 ],
 "metadata": {
  "kernelspec": {
   "display_name": "Python 3",
   "language": "python",
   "name": "python3"
  },
  "language_info": {
   "codemirror_mode": {
    "name": "ipython",
    "version": 3
   },
   "file_extension": ".py",
   "mimetype": "text/x-python",
   "name": "python",
   "nbconvert_exporter": "python",
   "pygments_lexer": "ipython3",
   "version": "3.7.3"
  }
 },
 "nbformat": 4,
 "nbformat_minor": 2
}
